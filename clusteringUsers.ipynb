{
 "cells": [
  {
   "cell_type": "markdown",
   "metadata": {
    "deletable": true,
    "editable": true,
    "toc": true
   },
   "source": [
    "<h1>Table of Contents<span class=\"tocSkip\"></span></h1>\n",
    "<div class=\"toc\" style=\"margin-top: 1em;\"><ul class=\"toc-item\"><li><span><a href=\"#Introduction\" data-toc-modified-id=\"Introduction-1\"><span class=\"toc-item-num\">1&nbsp;&nbsp;</span>Introduction</a></span></li><li><span><a href=\"#Modules-Definition\" data-toc-modified-id=\"Modules-Definition-2\"><span class=\"toc-item-num\">2&nbsp;&nbsp;</span>Modules Definition</a></span></li><li><span><a href=\"#Importing-and-Preprocessing-Documents\" data-toc-modified-id=\"Importing-and-Preprocessing-Documents-3\"><span class=\"toc-item-num\">3&nbsp;&nbsp;</span>Importing and Preprocessing Documents</a></span></li><li><span><a href=\"#Creation-of-doc2vec\" data-toc-modified-id=\"Creation-of-doc2vec-4\"><span class=\"toc-item-num\">4&nbsp;&nbsp;</span>Creation of doc2vec</a></span></li><li><span><a href=\"#Use-the-doc2vec-model\" data-toc-modified-id=\"Use-the-doc2vec-model-5\"><span class=\"toc-item-num\">5&nbsp;&nbsp;</span>Use the <code>doc2vec</code> model</a></span></li><li><span><a href=\"#Different-Algorithms-for-Cluster-Analysis\" data-toc-modified-id=\"Different-Algorithms-for-Cluster-Analysis-6\"><span class=\"toc-item-num\">6&nbsp;&nbsp;</span>Different Algorithms for Cluster Analysis</a></span><ul class=\"toc-item\"><li><span><a href=\"#K-mean-Clustering\" data-toc-modified-id=\"K-mean-Clustering-6.1\"><span class=\"toc-item-num\">6.1&nbsp;&nbsp;</span>K-mean Clustering</a></span></li><li><span><a href=\"#DBClustering\" data-toc-modified-id=\"DBClustering-6.2\"><span class=\"toc-item-num\">6.2&nbsp;&nbsp;</span>DBClustering</a></span></li><li><span><a href=\"#HDBClustering\" data-toc-modified-id=\"HDBClustering-6.3\"><span class=\"toc-item-num\">6.3&nbsp;&nbsp;</span>HDBClustering</a></span></li><li><span><a href=\"#Hierarchical-Clustering\" data-toc-modified-id=\"Hierarchical-Clustering-6.4\"><span class=\"toc-item-num\">6.4&nbsp;&nbsp;</span>Hierarchical Clustering</a></span><ul class=\"toc-item\"><li><span><a href=\"#Focus-on-the-biggest-cluster\" data-toc-modified-id=\"Focus-on-the-biggest-cluster-6.4.1\"><span class=\"toc-item-num\">6.4.1&nbsp;&nbsp;</span>Focus on the biggest cluster</a></span></li><li><span><a href=\"#Focus-on-excluding-the-biggest-cluster\" data-toc-modified-id=\"Focus-on-excluding-the-biggest-cluster-6.4.2\"><span class=\"toc-item-num\">6.4.2&nbsp;&nbsp;</span>Focus on excluding the biggest cluster</a></span></li></ul></li></ul></li></ul></div>"
   ]
  },
  {
   "cell_type": "code",
   "execution_count": 1,
   "metadata": {
    "collapsed": true,
    "deletable": true,
    "editable": true
   },
   "outputs": [],
   "source": [
    "import pandas as pd\n",
    "from gensim.corpora import Dictionary\n",
    "import numpy as np\n",
    "from nltk import word_tokenize\n",
    "from nltk import sent_tokenize\n",
    "from nltk.corpus import stopwords\n",
    "from gensim.models import doc2vec\n",
    "from collections import namedtuple\n",
    "import nltk\n",
    "from nltk.cluster import KMeansClusterer\n",
    "from sklearn import metrics\n",
    "import logging\n",
    "logging.basicConfig(format='%(asctime)s : %(levelname)s : %(message)s', level=logging.INFO)"
   ]
  },
  {
   "cell_type": "markdown",
   "metadata": {
    "deletable": true,
    "editable": true
   },
   "source": [
    "# Introduction"
   ]
  },
  {
   "cell_type": "markdown",
   "metadata": {
    "deletable": true,
    "editable": true
   },
   "source": [
    "In this notebook, we tested different clustering algorithms, both using hierarchical approaches as well as k-means based approaches. After testing and manual verification, we decided to keep a k-mean clustering solution with 7 clusters. This solution is able to properly assign 3503 users (out of a total of 7621 observations.) The preprocessing phase eliminates 4118 observations (for different reasons.)\n",
    "\n",
    "Eventually, we decided to assign all users to a cluster. More specifically, we use the following coding system:\n",
    "- -11: cluster identifying users with empty description field (804 users)\n",
    "- -10: cluster identifying users with a value different from \"it\" in the language field (2004 users)\n",
    "-  -9: cluster identifying users filtered via preprocessing (italian vocabulary and stopwords, etc.\n",
    " -- 1310 users)\n",
    "\n",
    "All the other users are assigned to clusters from 0 to 6, using a k-means algorithm."
   ]
  },
  {
   "cell_type": "markdown",
   "metadata": {
    "deletable": true,
    "editable": true
   },
   "source": [
    "# Modules Definition\n",
    "\n",
    "- `preProcess()`: Text preprocessing, to tokenize, remove stopwords, and sentences that are too short.\n",
    "- `addTags()`: This is needed to change the structure of each sentence (tweet) in the format required by doc2vec. We need to add a tag to each document.\n",
    "- `nltkClustering()`: Run the k-mean clustering algorithm implemented in the NLTK library."
   ]
  },
  {
   "cell_type": "code",
   "execution_count": 4,
   "metadata": {
    "collapsed": true,
    "deletable": true,
    "editable": true
   },
   "outputs": [],
   "source": [
    "def preProcess(df):\n",
    "    \"\"\"\n",
    "    Preprocess documents and save them in three data structures (a bit inefficient...):\n",
    "    - docs, corpus, idOriginal: These contain the documents used in the doc2vec module below \n",
    "      (the users surviving the preprocessing phase)\n",
    "    - docsElim etc. : Users eliminated because the description field, after preprocessin, has\n",
    "      a lenght of less than or equal to 2 words\n",
    "    - idOriginalEmpty: We store here the id of users whose \"Description\" field is empty\n",
    "    \"\"\"\n",
    "    docs = []\n",
    "    corpus = []\n",
    "    idOriginal = []\n",
    "    \n",
    "    docsElim = []\n",
    "    corpusElim = []\n",
    "    idOriginalElim = []\n",
    "\n",
    "    idOriginalEmpty = []\n",
    "\n",
    "    countWords = 0\n",
    "    countDict = 0\n",
    "    countShort = 0\n",
    "    i = 0\n",
    "    for ss in df[\"Description\"]:\n",
    "        i += 1\n",
    "        #print(df.iloc[i-1])\n",
    "        if (i % 1000 == 0):\n",
    "            print(\"Doc {0:5d} has been processed\".format(i))\n",
    "        if pd.isnull(ss):\n",
    "            #print(\"We skip this \", ss)\n",
    "            idOriginalEmpty.append(df.iloc[i-1][0])\n",
    "            continue\n",
    "\n",
    "\n",
    "        tokens = word_tokenize(ss)\n",
    "        #print(tokens)\n",
    "        countWords += len(tokens)\n",
    "        for w in tokens:\n",
    "            #print(\"w \", w, \" in dictionary? \", w in dct.token2id)\n",
    "            if w not in dct.token2id:\n",
    "                countDict += 1\n",
    "        words = [w.lower() for w in word_tokenize(ss) if w not in stop_words and w in dct.token2id]\n",
    "        #print(\"*** WORDS = \", words)\n",
    "        if len(words) > 2:\n",
    "            docs.append(words)\n",
    "            corpus.append(ss)\n",
    "            idOriginal.append(df.iloc[i-1][0])\n",
    "            #print(\"*** ID = \", df.iloc[i-1][0])\n",
    "        else:\n",
    "            docsElim.append(words)\n",
    "            corpusElim.append(ss)\n",
    "            idOriginalElim.append(df.iloc[i-1][0])\n",
    "            \n",
    "            countShort += 1\n",
    "    print(\"Dict = \", countDict, \" (\", countWords, \" - \", countDict/countWords, \" ) and Short = \", countShort)\n",
    "    \n",
    "    return docs, corpus, idOriginal, docsElim, corpusElim, idOriginalElim, idOriginalEmpty\n",
    "\n",
    "def addTags(docs):\n",
    "    \"\"\"\n",
    "    Modification needed to use doc2vec. Each document receives a tag (a unique id)\n",
    "    \"\"\"\n",
    "    dTags = []\n",
    "    analyzedDocument = namedtuple(\"AnalyzedDocument\", \"words tags\")\n",
    "    for i, doc in enumerate(docs):\n",
    "        tags = [i]\n",
    "        dTags.append(analyzedDocument(doc, tags))\n",
    "    return dTags"
   ]
  },
  {
   "cell_type": "code",
   "execution_count": 5,
   "metadata": {
    "collapsed": true,
    "deletable": true,
    "editable": true
   },
   "outputs": [],
   "source": [
    "def nltkClustering(vectors, nrClusters, repeats):\n",
    "    \"\"\"\n",
    "    Use the clustering function of NLTK. The algorithm is applied on the set of vectors contained in the \n",
    "    datastructure `vectors`.\n",
    "    \"\"\"\n",
    "\n",
    "    num_clusters = nrClusters\n",
    "    kclusterer = KMeansClusterer(num_clusters, \n",
    "        distance = nltk.cluster.util.cosine_distance,\n",
    "        #  distance = nltk.cluster.util.euclidean_distance,\n",
    "        repeats = repeats)\n",
    "    labels = kclusterer.cluster(vectors, assign_clusters=True)\n",
    "    score = metrics.silhouette_score(vectors, labels, metric=\"cosine\")\n",
    "    print(\"Silhouette score (nc = \", nrClusters, \" ) = \", score )\n",
    "\n",
    "    return labels, score"
   ]
  },
  {
   "cell_type": "markdown",
   "metadata": {
    "deletable": true,
    "editable": true
   },
   "source": [
    "# Importing and Preprocessing Documents "
   ]
  },
  {
   "cell_type": "code",
   "execution_count": 6,
   "metadata": {
    "collapsed": false,
    "deletable": true,
    "editable": true
   },
   "outputs": [
    {
     "name": "stdout",
     "output_type": "stream",
     "text": [
      "Total Number of Users in the dataset =  7621\n",
      "   REF    USER_ID          NAME_ID  \\\n",
      "0    1  307856934  prof_mrodrigues   \n",
      "1    2  200802917        Ggferrara   \n",
      "2    3  104558819       vivsmith71   \n",
      "3    4  283932101          orsomik   \n",
      "4    5  252531934     moneyfarmITA   \n",
      "\n",
      "                                         Description LANG  \\\n",
      "0                Assessor Administrativo e Professor   pt   \n",
      "1  Jack of all trades, master of none | [SARCASM ...   it   \n",
      "2  Trainee clinical psychologist @uclpals & part ...   en   \n",
      "3  Professional Trainer,  Business & Life Coach, ...   it   \n",
      "4  Miglior Consulente Finanziario Indipendente 2018.   it   \n",
      "\n",
      "                      NAME  FOLLOWERS  FOLLOWED  TWEETS  \\\n",
      "0         Márcio Rodrigues         79       189     360   \n",
      "1            Luigi Ferrara       1606      1299   20207   \n",
      "2                Viv Smith        814       905    6258   \n",
      "3  Michele Orsenigo #34361       1460      1911   54538   \n",
      "4         Moneyfarm Italia      17082     11014   57030   \n",
      "\n",
      "                 LOCATION     JOIN_DATE                          PROFILE_URL  \\\n",
      "0           Votorantim/SP  40693.512662                  http://www.uniso.br   \n",
      "1                 Salerno  40461.379676  http://it.linkedin.com/in/ggferrara   \n",
      "2              London, UK  40191.755116                                  NaN   \n",
      "3  Pioltello Milan, Italy  40651.378866               http://www.orsenigo.it   \n",
      "4                   Milan  40589.483600             http://www.moneyfarm.com   \n",
      "\n",
      "                                   PROFILE_IMAGE_URL  \n",
      "0  http://pbs.twimg.com/profile_images/1376049993...  \n",
      "1  http://pbs.twimg.com/profile_images/8895685826...  \n",
      "2  http://pbs.twimg.com/profile_images/2375302373...  \n",
      "3  http://pbs.twimg.com/profile_images/8942628417...  \n",
      "4  http://pbs.twimg.com/profile_images/8014983830...  \n"
     ]
    }
   ],
   "source": [
    "#dfUsers = pd.read_csv(\"data/user_descriptions.csv\")\n",
    "dfUsers = pd.read_csv(\"data/users_bank_10_2018.csv\")\n",
    "print(\"Total Number of Users in the dataset = \", len(dfUsers))\n",
    "print(dfUsers.head())"
   ]
  },
  {
   "cell_type": "markdown",
   "metadata": {
    "deletable": true,
    "editable": true
   },
   "source": [
    "We select here only users with Language = \"it\", i.e., users which labels themselves as using the Italian language. It is not a great approach, since the description field still contains a large number of non-italian words (even when the user identifies himself as \"it\".) The problem is that, often, the language used in the description field is mixed (part italian part english...)"
   ]
  },
  {
   "cell_type": "code",
   "execution_count": 7,
   "metadata": {
    "collapsed": true,
    "deletable": true,
    "editable": true
   },
   "outputs": [],
   "source": [
    "dfNoIt = dfUsers[dfUsers[\"LANG\"] != \"it\"]\n",
    "dfUsers = dfUsers[dfUsers[\"LANG\"]==\"it\"]\n",
    "dfNoIt.to_csv(\"data/clustersNoIt.csv\")"
   ]
  },
  {
   "cell_type": "code",
   "execution_count": 8,
   "metadata": {
    "collapsed": false,
    "deletable": true,
    "editable": true
   },
   "outputs": [
    {
     "name": "stdout",
     "output_type": "stream",
     "text": [
      "Number of Not It = 2004  vs IT =  5617\n",
      "We thus retain  5617 users.\n",
      "\n",
      "   REF    USER_ID          NAME_ID  \\\n",
      "0    1  307856934  prof_mrodrigues   \n",
      "2    3  104558819       vivsmith71   \n",
      "6    7   52350953          adpucci   \n",
      "7    8   92785595   semaphore_info   \n",
      "8    9  147901692        Youstitia   \n",
      "\n",
      "                                         Description LANG               NAME  \\\n",
      "0                Assessor Administrativo e Professor   pt   Márcio Rodrigues   \n",
      "2  Trainee clinical psychologist @uclpals & part ...   en          Viv Smith   \n",
      "6  Woman. Libertine.  Picker, grinner, lover, sin...   en          Pucci D 🔥   \n",
      "7  Spécialiste indépendant #veille #conseil #étud...   fr  Sémaphore Conseil   \n",
      "8  La Giustizia è una cosa seria, anche Tu lo sei...   en          YouStitia   \n",
      "\n",
      "   FOLLOWERS  FOLLOWED  TWEETS                      LOCATION     JOIN_DATE  \\\n",
      "0         79       189     360                 Votorantim/SP  40693.512662   \n",
      "2        814       905    6258                    London, UK  40191.755116   \n",
      "6        847       682   91076  Liverpool, NY, #Manus Prison  39994.388785   \n",
      "7       1402       837    3759                         Paris  40143.684954   \n",
      "8       1686      1032   46143                 Roma - ITALIA  40323.419549   \n",
      "\n",
      "                        PROFILE_URL  \\\n",
      "0               http://www.uniso.br   \n",
      "2                               NaN   \n",
      "6                               NaN   \n",
      "7  http://www.semaphore-conseil.com   \n",
      "8           http://www.youstitia.it   \n",
      "\n",
      "                                   PROFILE_IMAGE_URL  \n",
      "0  http://pbs.twimg.com/profile_images/1376049993...  \n",
      "2  http://pbs.twimg.com/profile_images/2375302373...  \n",
      "6  http://pbs.twimg.com/profile_images/4377698892...  \n",
      "7  http://pbs.twimg.com/profile_images/4288486063...  \n",
      "8  http://pbs.twimg.com/profile_images/1194729631...  \n"
     ]
    }
   ],
   "source": [
    "print(\"Number of Not It =\", len(dfNoIt), \" vs IT = \", len(dfUsers))\n",
    "print(\"We thus retain \", len(dfUsers), \"users.\\n\")\n",
    "print(dfNoIt.head())"
   ]
  },
  {
   "cell_type": "markdown",
   "metadata": {
    "deletable": true,
    "editable": true
   },
   "source": [
    "Now, upload dictionary and stopwords, and eleminate users if length of final description is not above 2. The dictionary has been built starting from the Italian wikipedia. We cut the length of the dictionary to 1M words."
   ]
  },
  {
   "cell_type": "code",
   "execution_count": 9,
   "metadata": {
    "collapsed": true,
    "deletable": true,
    "editable": true
   },
   "outputs": [],
   "source": [
    "dct = Dictionary.load_from_text(\"data/dictWiki.txt\")"
   ]
  },
  {
   "cell_type": "code",
   "execution_count": 10,
   "metadata": {
    "collapsed": false,
    "deletable": true,
    "editable": true
   },
   "outputs": [
    {
     "name": "stdout",
     "output_type": "stream",
     "text": [
      "Length dictionary before filter =  2022361\n"
     ]
    },
    {
     "name": "stderr",
     "output_type": "stream",
     "text": [
      "2018-11-22 09:18:12,345 : INFO : discarding 1307630 tokens: [('al', 670883), ('alla', 533998), ('bagchee', 3), ('categoria', 695352), ('che', 694169), ('collegamenti', 623305), ('con', 695374), ('da', 678541), ('dal', 544442), ('debain', 4)]...\n",
      "2018-11-22 09:18:12,346 : INFO : keeping 714731 tokens which were in no less than 5 and no more than 524298 (=50.0%) documents\n",
      "2018-11-22 09:18:14,943 : INFO : resulting dictionary: Dictionary(714731 unique tokens: ['saziati', 'monoceros', 'iuventas', 'usclas', 'medievistica']...)\n"
     ]
    },
    {
     "name": "stdout",
     "output_type": "stream",
     "text": [
      "Length dictionary after filter =  714731\n"
     ]
    }
   ],
   "source": [
    "print(\"Length dictionary before filter = \", len(dct))\n",
    "dct.filter_extremes(keep_n=1000000)\n",
    "print(\"Length dictionary after filter = \", len(dct))"
   ]
  },
  {
   "cell_type": "code",
   "execution_count": 11,
   "metadata": {
    "collapsed": true,
    "deletable": true,
    "editable": true
   },
   "outputs": [],
   "source": [
    "stop_words = stopwords.words(\"italian\") # upload stopwords (NLTK library)"
   ]
  },
  {
   "cell_type": "code",
   "execution_count": 12,
   "metadata": {
    "collapsed": false,
    "deletable": true,
    "editable": true
   },
   "outputs": [
    {
     "name": "stdout",
     "output_type": "stream",
     "text": [
      "Doc  1000 has been processed\n",
      "Doc  2000 has been processed\n",
      "Doc  3000 has been processed\n",
      "Doc  4000 has been processed\n",
      "Doc  5000 has been processed\n",
      "Dict =  51761  ( 83077  -  0.6230484971773175  ) and Short =  1314\n",
      "Preprocessed and transformed  3499  documents.\n",
      "** Retaining  1314  users.\n",
      "** Eliminating  1314  users due to grammar and length.\n",
      "** Eliminating  804  users due to empty field.\n"
     ]
    }
   ],
   "source": [
    "docs, corpus, idOriginal, docsElim, corpusElim, idOriginalElim, idOriginalEmpty = preProcess(dfUsers)\n",
    "dTags = addTags(docs)\n",
    "print(\"Preprocessed and transformed \", len(dTags), \" documents.\")\n",
    "# save all users excluded because of dictionary cut or stopwords, etc. Length of user description <= 2\n",
    "df = pd.DataFrame({\n",
    "    \"id\" : idOriginalElim,\n",
    "    \"Description\" : corpusElim,\n",
    "    \"Keywords\" : docsElim,\n",
    "    \"cluster.7\": [-9]*len(idOriginalElim)\n",
    "})\n",
    "print(\"** Retaining \", len(df), \" users.\")\n",
    "print(\"** Eliminating \", len(idOriginalElim),\" users due to grammar and length.\")\n",
    "df.to_csv(\"data/clustersNoDict.csv\") # users with short description after preprocessing\n",
    "df = pd.DataFrame ({\n",
    "    \"id\" : idOriginalEmpty,\n",
    "    \"cluster.7\": [-11]*len(idOriginalEmpty)\n",
    "})\n",
    "print(\"** Eliminating \", len(idOriginalEmpty),\" users due to empty field.\")\n",
    "df.to_csv(\"data/clustersEmpty.csv\") # users with empty description field\n"
   ]
  },
  {
   "cell_type": "markdown",
   "metadata": {
    "deletable": true,
    "editable": true
   },
   "source": [
    "# Creation of doc2vec\n",
    "\n",
    "We create a new doc2vec model, based on user descriptions, rather than \"recycling\" the doc2vec model we obtained from the tweets. "
   ]
  },
  {
   "cell_type": "code",
   "execution_count": null,
   "metadata": {
    "collapsed": true,
    "deletable": true,
    "editable": true
   },
   "outputs": [],
   "source": [
    "# run this chunk if we need to create the model\n",
    "model = doc2vec.Doc2Vec(size=300, window=300, min_count=2, iter=1000, workers=4, dm=1, max_vocab_size=50000)\n",
    "model.build_vocab(dTags)\n",
    "model.train(dTags, total_examples=model.corpus_count, epochs=model.iter)\n",
    "model.init_sims(replace=True)"
   ]
  },
  {
   "cell_type": "code",
   "execution_count": null,
   "metadata": {
    "collapsed": true,
    "deletable": true,
    "editable": true
   },
   "outputs": [],
   "source": [
    "# save model on disk\n",
    "model.save(\"doc2vecUsers.model.dm\")"
   ]
  },
  {
   "cell_type": "code",
   "execution_count": null,
   "metadata": {
    "collapsed": false,
    "deletable": true,
    "editable": true
   },
   "outputs": [],
   "source": [
    "# upload model from disk if it already exists\n",
    "model = doc2vec.Doc2Vec.load(\"doc2vecUsers.model.dm\")"
   ]
  },
  {
   "cell_type": "markdown",
   "metadata": {
    "deletable": true,
    "editable": true
   },
   "source": [
    "Run a little consistency test. Verify whether the models produced by doc2vec is able to properly infer new vectors. More specifically, we apply the following steps:\n",
    "- take each document and infer the vector using doc2vec (rather than using the vector produced by doc2vec, we infer a new one, as if that document has never been seen before). Let us call this document `doc1` and this inferred vector `v1`\n",
    "- find the document whose vector representation is the closest one to `v1`. If the doc2vec model is working properly, the document closest to `doc1` in the corpus should be precisely `doc1`. That is, if the inferred vector is meaningful, `v1` should be very close to the vector representation associated to that document in the corpus."
   ]
  },
  {
   "cell_type": "code",
   "execution_count": null,
   "metadata": {
    "collapsed": true,
    "deletable": true,
    "editable": true
   },
   "outputs": [],
   "source": [
    "withTest = 1\n",
    "if withTest:\n",
    "    x = []\n",
    "    for idx in range(500):\n",
    "        v0 = model.infer_vector(dTags[idx].words, steps=10000)\n",
    "        sims = model.docvecs.most_similar([v0], topn=len(docs))\n",
    "        rank = [idx for idx,sim in sims].index(idx)\n",
    "        x.append(rank)\n",
    "        if idx % 5 == 0:\n",
    "            print(\"Vector \", idx, \" has rank \", rank)"
   ]
  },
  {
   "cell_type": "markdown",
   "metadata": {
    "deletable": true,
    "editable": true
   },
   "source": [
    "# Use the `doc2vec` model"
   ]
  },
  {
   "cell_type": "markdown",
   "metadata": {
    "deletable": true,
    "editable": true
   },
   "source": [
    "Note that there are two implementations of the doc2vec model:\n",
    "- doc2vecTwitter.model: This is the model obtained when the option \"dm=0\" is used in the generation of the model using the gensim module.\n",
    "- doc2vecTwitter.model.dm: This model is obtained activating \"dm=1\". Some papers in the literature say that the doc2vec model obtained using \"dm=1\" is of higher quality than the one obtained with \"dm=0\"."
   ]
  },
  {
   "cell_type": "code",
   "execution_count": 14,
   "metadata": {
    "collapsed": false,
    "deletable": true,
    "editable": true
   },
   "outputs": [
    {
     "name": "stdout",
     "output_type": "stream",
     "text": [
      "Processing document  0\n",
      "Processing document  25\n",
      "Processing document  50\n",
      "Processing document  75\n",
      "Processing document  100\n",
      "Processing document  125\n",
      "Processing document  150\n",
      "Processing document  175\n",
      "Processing document  200\n",
      "Processing document  225\n",
      "Processing document  250\n",
      "Processing document  275\n",
      "Processing document  300\n",
      "Processing document  325\n",
      "Processing document  350\n",
      "Processing document  375\n",
      "Processing document  400\n",
      "Processing document  425\n",
      "Processing document  450\n",
      "Processing document  475\n",
      "Processing document  500\n",
      "Processing document  525\n",
      "Processing document  550\n",
      "Processing document  575\n",
      "Processing document  600\n",
      "Processing document  625\n",
      "Processing document  650\n",
      "Processing document  675\n",
      "Processing document  700\n",
      "Processing document  725\n",
      "Processing document  750\n",
      "Processing document  775\n",
      "Processing document  800\n",
      "Processing document  825\n",
      "Processing document  850\n",
      "Processing document  875\n",
      "Processing document  900\n",
      "Processing document  925\n",
      "Processing document  950\n",
      "Processing document  975\n",
      "Processing document  1000\n",
      "Processing document  1025\n",
      "Processing document  1050\n",
      "Processing document  1075\n",
      "Processing document  1100\n",
      "Processing document  1125\n",
      "Processing document  1150\n",
      "Processing document  1175\n",
      "Processing document  1200\n",
      "Processing document  1225\n",
      "Processing document  1250\n",
      "Processing document  1275\n",
      "Processing document  1300\n",
      "Processing document  1325\n",
      "Processing document  1350\n",
      "Processing document  1375\n",
      "Processing document  1400\n",
      "Processing document  1425\n",
      "Processing document  1450\n",
      "Processing document  1475\n",
      "Processing document  1500\n",
      "Processing document  1525\n",
      "Processing document  1550\n",
      "Processing document  1575\n",
      "Processing document  1600\n",
      "Processing document  1625\n",
      "Processing document  1650\n",
      "Processing document  1675\n",
      "Processing document  1700\n",
      "Processing document  1725\n",
      "Processing document  1750\n",
      "Processing document  1775\n",
      "Processing document  1800\n",
      "Processing document  1825\n",
      "Processing document  1850\n",
      "Processing document  1875\n",
      "Processing document  1900\n",
      "Processing document  1925\n",
      "Processing document  1950\n",
      "Processing document  1975\n",
      "Processing document  2000\n",
      "Processing document  2025\n",
      "Processing document  2050\n",
      "Processing document  2075\n",
      "Processing document  2100\n",
      "Processing document  2125\n",
      "Processing document  2150\n",
      "Processing document  2175\n",
      "Processing document  2200\n",
      "Processing document  2225\n",
      "Processing document  2250\n",
      "Processing document  2275\n",
      "Processing document  2300\n",
      "Processing document  2325\n",
      "Processing document  2350\n",
      "Processing document  2375\n",
      "Processing document  2400\n",
      "Processing document  2425\n",
      "Processing document  2450\n",
      "Processing document  2475\n",
      "Processing document  2500\n",
      "Processing document  2525\n",
      "Processing document  2550\n",
      "Processing document  2575\n",
      "Processing document  2600\n",
      "Processing document  2625\n",
      "Processing document  2650\n",
      "Processing document  2675\n",
      "Processing document  2700\n",
      "Processing document  2725\n",
      "Processing document  2750\n",
      "Processing document  2775\n",
      "Processing document  2800\n",
      "Processing document  2825\n",
      "Processing document  2850\n",
      "Processing document  2875\n",
      "Processing document  2900\n",
      "Processing document  2925\n",
      "Processing document  2950\n",
      "Processing document  2975\n",
      "Processing document  3000\n",
      "Processing document  3025\n",
      "Processing document  3050\n",
      "Processing document  3075\n",
      "Processing document  3100\n",
      "Processing document  3125\n",
      "Processing document  3150\n",
      "Processing document  3175\n",
      "Processing document  3200\n",
      "Processing document  3225\n",
      "Processing document  3250\n",
      "Processing document  3275\n",
      "Processing document  3300\n",
      "Processing document  3325\n",
      "Processing document  3350\n",
      "Processing document  3375\n",
      "Processing document  3400\n",
      "Processing document  3425\n",
      "Processing document  3450\n",
      "Processing document  3475\n",
      "Processing document  3500\n",
      "Done.\n"
     ]
    }
   ],
   "source": [
    "#model = doc2vec.Doc2Vec.load(\"doc2vecTwitter.model\")\n",
    "vecs = []\n",
    "for idx in range(len(docs)):\n",
    "    if idx % 25 == 0:\n",
    "        print(\"Processing document \", idx)\n",
    "    v0 = model.infer_vector(dTags[idx].words, steps=10000)\n",
    "    vecs.append(v0)   \n",
    "print(\"Done.\")"
   ]
  },
  {
   "cell_type": "markdown",
   "metadata": {
    "deletable": true,
    "editable": true
   },
   "source": [
    "We want to get a quick graphical representation of the vector space model produced by `doc2vec`. We use Principal Component Analysis."
   ]
  },
  {
   "cell_type": "code",
   "execution_count": 15,
   "metadata": {
    "collapsed": true,
    "deletable": true,
    "editable": true
   },
   "outputs": [],
   "source": [
    "import matplotlib.pyplot as plt\n",
    "plt.style.use('ggplot')\n",
    "from sklearn.decomposition import PCA as sklearnPCA"
   ]
  },
  {
   "cell_type": "code",
   "execution_count": 16,
   "metadata": {
    "collapsed": true,
    "deletable": true,
    "editable": true
   },
   "outputs": [],
   "source": [
    "pca = sklearnPCA(n_components=2) #2-dimensional PCA\n",
    "transformed = pd.DataFrame(pca.fit_transform(vecs))\n"
   ]
  },
  {
   "cell_type": "code",
   "execution_count": 17,
   "metadata": {
    "collapsed": false,
    "deletable": true,
    "editable": true
   },
   "outputs": [
    {
     "data": {
      "image/png": "[encoded data removed]",
      "text/plain": [
       "<matplotlib.figure.Figure at 0x7f5397126d30>"
      ]
     },
     "metadata": {},
     "output_type": "display_data"
    }
   ],
   "source": [
    "plt.scatter(transformed[0], transformed[1])\n",
    "plt.show()"
   ]
  },
  {
   "cell_type": "markdown",
   "metadata": {
    "deletable": true,
    "editable": true
   },
   "source": [
    "As we can see, in reality, is seems that all the vectors belong to a single cluster. The strongest solution is still the one that keeps all the users together..."
   ]
  },
  {
   "cell_type": "markdown",
   "metadata": {
    "deletable": true,
    "editable": true
   },
   "source": [
    "# Different Algorithms for Cluster Analysis"
   ]
  },
  {
   "cell_type": "markdown",
   "metadata": {
    "deletable": true,
    "editable": true
   },
   "source": [
    "## K-mean Clustering\n",
    "We first run the clustering algorithm with multiple values of the $k^*$ value. We then select the most appropriate vaues, based on the _silhouette_ score. Finally, the resulting cluster solution is saved on disk."
   ]
  },
  {
   "cell_type": "code",
   "execution_count": 24,
   "metadata": {
    "collapsed": false,
    "deletable": true,
    "editable": true
   },
   "outputs": [
    {
     "name": "stdout",
     "output_type": "stream",
     "text": [
      "3503\n",
      "Silhouette score (nc =  3  ) =  0.260172\n",
      "Silhouette score (nc =  4  ) =  0.174511\n",
      "Silhouette score (nc =  5  ) =  0.160087\n",
      "Silhouette score (nc =  6  ) =  0.153601\n",
      "Silhouette score (nc =  7  ) =  0.18794\n",
      "Silhouette score (nc =  8  ) =  0.157757\n",
      "Silhouette score (nc =  9  ) =  0.127336\n"
     ]
    }
   ],
   "source": [
    "print(len(vecs))\n",
    "for nc in range(3,10):\n",
    "    label, score = nltkClustering(vecs, nrClusters = nc, repeats=50)"
   ]
  },
  {
   "cell_type": "code",
   "execution_count": null,
   "metadata": {
    "collapsed": true,
    "deletable": true,
    "editable": true
   },
   "outputs": [],
   "source": [
    "for nc in range(10,20):\n",
    "    label, score = nltkClustering(vecs, nrClusters = nc, repeats=50)"
   ]
  },
  {
   "cell_type": "code",
   "execution_count": 26,
   "metadata": {
    "collapsed": false,
    "deletable": true,
    "editable": true
   },
   "outputs": [
    {
     "name": "stdout",
     "output_type": "stream",
     "text": [
      "Silhouette score (nc =  3  ) =  0.255784\n"
     ]
    }
   ],
   "source": [
    "label3, score = nltkClustering(vecs, nrClusters = 3, repeats=50)"
   ]
  },
  {
   "cell_type": "code",
   "execution_count": 27,
   "metadata": {
    "collapsed": false,
    "deletable": true,
    "editable": true
   },
   "outputs": [
    {
     "name": "stdout",
     "output_type": "stream",
     "text": [
      "Silhouette score (nc =  7  ) =  0.156698\n"
     ]
    }
   ],
   "source": [
    "label7, score = nltkClustering(vecs, nrClusters = 7, repeats=50)"
   ]
  },
  {
   "cell_type": "markdown",
   "metadata": {
    "deletable": true,
    "editable": true
   },
   "source": [
    "Save the best solution(s), based on the silhouette score."
   ]
  },
  {
   "cell_type": "code",
   "execution_count": 28,
   "metadata": {
    "collapsed": false,
    "deletable": true,
    "editable": true
   },
   "outputs": [
    {
     "name": "stdout",
     "output_type": "stream",
     "text": [
      "                                         Description  \\\n",
      "0  Jack of all trades, master of none | [SARCASM ...   \n",
      "1  Professional Trainer,  Business & Life Coach, ...   \n",
      "2  Sail fast, Live slow. Father. Geek, DIY evange...   \n",
      "3  Padre. Money manager. Fu BimboAlieno. Economia...   \n",
      "4  In @ReteDisarmo cercando nonviolenza. Il megli...   \n",
      "\n",
      "                                            Keywords  cluster.3  cluster.7  id  \n",
      "0                     [of, trades, master, of, none]          0          0   2  \n",
      "1                     [consultant, are, endorsement]          0          1   4  \n",
      "2  [fast, slow, evangelist, inside, fan, student,...          1          2   6  \n",
      "3                       [manager, collaboro, gruppo]          0          1  11  \n",
      "4  [cercando, nonviolenza, meglio, moglie, figlie...          2          6  13  \n"
     ]
    }
   ],
   "source": [
    "df = pd.DataFrame({\n",
    "    \"id\" : idOriginal,\n",
    "    \"Description\" : corpus,\n",
    "    \"Keywords\" : docs,\n",
    "    \"cluster.3\": label3,\n",
    "    \"cluster.7\": label7\n",
    "})\n",
    "print(df.head())\n",
    "df.to_csv(\"data/clustersNltk.csv\")"
   ]
  },
  {
   "cell_type": "markdown",
   "metadata": {
    "deletable": true,
    "editable": true
   },
   "source": [
    "## DBClustering\n",
    "\n",
    "The advantage of this method is that it does not force every point of the set to be assigned to a cluster. Some points can be treated as \"noise\" and are left out from the assignment. This sounds like a good idea, since it might find that only some of the users are grouped together.\n",
    "\n",
    "There are basically two versions of these types of clustering algorithms:\n",
    "- non-hierarchical: DBSCAN\n",
    "- hierarchical : HDBSCAN\n",
    "\n",
    "Below, I use both of them. As we can see, the results lead to a non-meaningful assigment. Only one cluster is created, regardless of which method and metric are used. "
   ]
  },
  {
   "cell_type": "code",
   "execution_count": 18,
   "metadata": {
    "collapsed": true,
    "deletable": true,
    "editable": true
   },
   "outputs": [],
   "source": [
    "from sklearn.cluster import DBSCAN\n",
    "from sklearn import metrics\n",
    "from sklearn.datasets.samples_generator import make_blobs\n",
    "from sklearn.preprocessing import StandardScaler"
   ]
  },
  {
   "cell_type": "code",
   "execution_count": 19,
   "metadata": {
    "collapsed": false,
    "deletable": true,
    "editable": true
   },
   "outputs": [
    {
     "name": "stdout",
     "output_type": "stream",
     "text": [
      "Algo = auto\t Metric = cosine\t Nr.Cluster = 1, Silhouette = 0.021826492622494698\n",
      "Algo = auto\t Metric = euclidean\t Nr.Cluster = 1, Silhouette = 0.19671845436096191\n",
      "Algo = auto\t Metric = correlation\t Nr.Cluster = 1, Silhouette = 0.02186415038689617\n",
      "Algo = auto\t Metric = matching\t Nr.Cluster = 1, Silhouette = 0.0\n",
      "Algo = ball_tree\t Metric = euclidean\t Nr.Cluster = 1, Silhouette = 0.19671845436096191\n",
      "Algo = ball_tree\t Metric = matching\t Nr.Cluster = 1, Silhouette = 0.0\n",
      "Algo = kd_tree\t Metric = euclidean\t Nr.Cluster = 1, Silhouette = 0.19671845436096191\n",
      "Algo = brute\t Metric = cosine\t Nr.Cluster = 1, Silhouette = 0.021826492622494698\n",
      "Algo = brute\t Metric = euclidean\t Nr.Cluster = 1, Silhouette = 0.19671845436096191\n",
      "Algo = brute\t Metric = correlation\t Nr.Cluster = 1, Silhouette = 0.02186415038689617\n"
     ]
    },
    {
     "name": "stderr",
     "output_type": "stream",
     "text": [
      "/home/mcaserta/anaconda3/lib/python3.5/site-packages/sklearn/utils/validation.py:444: DataConversionWarning: Data with input dtype float32 was converted to bool by check_pairwise_arrays.\n",
      "  warnings.warn(msg, DataConversionWarning)\n"
     ]
    },
    {
     "name": "stdout",
     "output_type": "stream",
     "text": [
      "Algo = brute\t Metric = matching\t Nr.Cluster = 1, Silhouette = 0.0\n"
     ]
    }
   ],
   "source": [
    "#X = StandardScaler().fit_transform(vecs)\n",
    "\n",
    "algos = ['auto', 'ball_tree', 'kd_tree', 'brute']\n",
    "all_metrics = ['cosine', 'euclidean', 'correlation', 'matching']\n",
    "\n",
    "# Compute DBSCAN\n",
    "for algo in algos:\n",
    "    for mm in all_metrics:\n",
    "        X = vecs\n",
    "        try:\n",
    "            db = DBSCAN(eps=0.7, min_samples=10, n_jobs=-1, algorithm=algo, metric=mm).fit(X)\n",
    "        except:\n",
    "            continue\n",
    "        core_samples_mask = np.zeros_like(db.labels_, dtype=bool)\n",
    "        core_samples_mask[db.core_sample_indices_] = True\n",
    "        labels = db.labels_\n",
    "\n",
    "        # Number of clusters in labels, ignoring noise if present.\n",
    "        n_clusters_ = len(set(labels)) - (1 if -1 in labels else 0)\n",
    "        #print(labels)\n",
    "        try:\n",
    "            score = metrics.silhouette_score(X, labels, metric=mm)\n",
    "        except:\n",
    "            score = 0.0\n",
    "        print(\"Algo = {0}\\t Metric = {1}\\t Nr.Cluster = {2}, Silhouette = {3}\".format(algo, mm, n_clusters_, score))"
   ]
  },
  {
   "cell_type": "code",
   "execution_count": null,
   "metadata": {
    "collapsed": true,
    "deletable": true,
    "editable": true
   },
   "outputs": [],
   "source": [
    "X = vecs\n",
    "db = DBSCAN(eps=0.7, min_samples=10, n_jobs=-1, algorithm='auto', metric='cosine').fit(X)\n",
    "labels = db.labels_\n",
    "score = metrics.silhouette_score(X, labels, metric='cosine')\n",
    "n_clusters_ = len(set(labels)) - (1 if -1 in labels else 0)\n",
    "print(\"Nr. Clusters = \", n_clusters_, \"Silhouette = \", score)\n",
    "df = pd.DataFrame({\n",
    "    \"id\" : idOriginal,\n",
    "    \"Description\" : corpus,\n",
    "    \"Keywords\" : docs,\n",
    "    \"labels\": labels\n",
    "})\n",
    "print(df.head())\n",
    "df.to_csv(\"data/clustersDBSCAN.csv\")"
   ]
  },
  {
   "cell_type": "markdown",
   "metadata": {
    "deletable": true,
    "editable": true
   },
   "source": [
    "## HDBClustering\n",
    "\n",
    "A hierarchical clustering algorithm based on DBClustering."
   ]
  },
  {
   "cell_type": "code",
   "execution_count": 21,
   "metadata": {
    "collapsed": true,
    "deletable": true,
    "editable": true
   },
   "outputs": [],
   "source": [
    "import hdbscan\n",
    "from sklearn.datasets import make_blobs\n"
   ]
  },
  {
   "cell_type": "code",
   "execution_count": 22,
   "metadata": {
    "collapsed": false,
    "deletable": true,
    "editable": true
   },
   "outputs": [
    {
     "data": {
      "text/html": [
       "<div>\n",
       "<style>\n",
       "    .dataframe thead tr:only-child th {\n",
       "        text-align: right;\n",
       "    }\n",
       "\n",
       "    .dataframe thead th {\n",
       "        text-align: left;\n",
       "    }\n",
       "\n",
       "    .dataframe tbody tr th {\n",
       "        vertical-align: top;\n",
       "    }\n",
       "</style>\n",
       "<table border=\"1\" class=\"dataframe\">\n",
       "  <thead>\n",
       "    <tr style=\"text-align: right;\">\n",
       "      <th></th>\n",
       "      <th>0</th>\n",
       "      <th>1</th>\n",
       "      <th>2</th>\n",
       "      <th>3</th>\n",
       "      <th>4</th>\n",
       "      <th>5</th>\n",
       "      <th>6</th>\n",
       "      <th>7</th>\n",
       "      <th>8</th>\n",
       "      <th>9</th>\n",
       "    </tr>\n",
       "  </thead>\n",
       "  <tbody>\n",
       "    <tr>\n",
       "      <th>0</th>\n",
       "      <td>4.586577</td>\n",
       "      <td>10.121486</td>\n",
       "      <td>7.742454</td>\n",
       "      <td>9.620633</td>\n",
       "      <td>8.271808</td>\n",
       "      <td>0.941111</td>\n",
       "      <td>-3.673836</td>\n",
       "      <td>-3.616351</td>\n",
       "      <td>1.666774</td>\n",
       "      <td>4.139957</td>\n",
       "    </tr>\n",
       "    <tr>\n",
       "      <th>1</th>\n",
       "      <td>-4.525988</td>\n",
       "      <td>9.718526</td>\n",
       "      <td>4.583538</td>\n",
       "      <td>-1.250788</td>\n",
       "      <td>4.475234</td>\n",
       "      <td>-0.830563</td>\n",
       "      <td>-1.978461</td>\n",
       "      <td>-4.144216</td>\n",
       "      <td>5.329160</td>\n",
       "      <td>5.437551</td>\n",
       "    </tr>\n",
       "    <tr>\n",
       "      <th>2</th>\n",
       "      <td>6.534317</td>\n",
       "      <td>-10.323447</td>\n",
       "      <td>-8.731192</td>\n",
       "      <td>1.488943</td>\n",
       "      <td>-5.454516</td>\n",
       "      <td>1.742315</td>\n",
       "      <td>3.600310</td>\n",
       "      <td>4.270600</td>\n",
       "      <td>2.107223</td>\n",
       "      <td>-8.816209</td>\n",
       "    </tr>\n",
       "    <tr>\n",
       "      <th>3</th>\n",
       "      <td>-7.138337</td>\n",
       "      <td>8.980842</td>\n",
       "      <td>4.348521</td>\n",
       "      <td>-1.898735</td>\n",
       "      <td>2.022532</td>\n",
       "      <td>-2.320467</td>\n",
       "      <td>-2.057687</td>\n",
       "      <td>-2.018512</td>\n",
       "      <td>6.996454</td>\n",
       "      <td>5.946531</td>\n",
       "    </tr>\n",
       "    <tr>\n",
       "      <th>4</th>\n",
       "      <td>-5.899854</td>\n",
       "      <td>9.198309</td>\n",
       "      <td>6.475198</td>\n",
       "      <td>-3.436227</td>\n",
       "      <td>5.467570</td>\n",
       "      <td>-2.881740</td>\n",
       "      <td>-3.660502</td>\n",
       "      <td>-2.079042</td>\n",
       "      <td>5.314516</td>\n",
       "      <td>6.647001</td>\n",
       "    </tr>\n",
       "  </tbody>\n",
       "</table>\n",
       "</div>"
      ],
      "text/plain": [
       "          0          1         2         3         4         5         6  \\\n",
       "0  4.586577  10.121486  7.742454  9.620633  8.271808  0.941111 -3.673836   \n",
       "1 -4.525988   9.718526  4.583538 -1.250788  4.475234 -0.830563 -1.978461   \n",
       "2  6.534317 -10.323447 -8.731192  1.488943 -5.454516  1.742315  3.600310   \n",
       "3 -7.138337   8.980842  4.348521 -1.898735  2.022532 -2.320467 -2.057687   \n",
       "4 -5.899854   9.198309  6.475198 -3.436227  5.467570 -2.881740 -3.660502   \n",
       "\n",
       "          7         8         9  \n",
       "0 -3.616351  1.666774  4.139957  \n",
       "1 -4.144216  5.329160  5.437551  \n",
       "2  4.270600  2.107223 -8.816209  \n",
       "3 -2.018512  6.996454  5.946531  \n",
       "4 -2.079042  5.314516  6.647001  "
      ]
     },
     "execution_count": 22,
     "metadata": {},
     "output_type": "execute_result"
    }
   ],
   "source": [
    "blobs, labels = make_blobs(n_samples=2000, n_features=10)\n",
    "pd.DataFrame(blobs).head()\n"
   ]
  },
  {
   "cell_type": "code",
   "execution_count": 23,
   "metadata": {
    "collapsed": false,
    "deletable": true,
    "editable": true
   },
   "outputs": [
    {
     "data": {
      "text/plain": [
       "HDBSCAN(algorithm='prims_kdtree', allow_single_cluster=False, alpha=1.0,\n",
       "    approx_min_span_tree=True, cluster_selection_method='eom',\n",
       "    core_dist_n_jobs=4, gen_min_span_tree=False, leaf_size=40,\n",
       "    match_reference_implementation=False, memory=Memory(cachedir=None),\n",
       "    metric='euclidean', min_cluster_size=10, min_samples=None, p=None,\n",
       "    prediction_data=False)"
      ]
     },
     "execution_count": 23,
     "metadata": {},
     "output_type": "execute_result"
    }
   ],
   "source": [
    "clusterer = hdbscan.HDBSCAN(min_cluster_size=10, algorithm='prims_kdtree')\n",
    "clusterer.fit(blobs)"
   ]
  },
  {
   "cell_type": "code",
   "execution_count": 24,
   "metadata": {
    "collapsed": true,
    "deletable": true,
    "editable": true
   },
   "outputs": [],
   "source": [
    "from sklearn.cluster import DBSCAN\n",
    "from sklearn import metrics\n",
    "from sklearn.preprocessing import StandardScaler"
   ]
  },
  {
   "cell_type": "code",
   "execution_count": 25,
   "metadata": {
    "collapsed": true,
    "deletable": true,
    "editable": true
   },
   "outputs": [],
   "source": [
    "X = StandardScaler().fit_transform(vecs)"
   ]
  },
  {
   "cell_type": "code",
   "execution_count": 26,
   "metadata": {
    "collapsed": true,
    "deletable": true,
    "editable": true
   },
   "outputs": [],
   "source": [
    "db = DBSCAN(eps=0.3, min_samples=5, n_jobs=-1, algorithm=\"kd_tree\").fit(vecs)\n",
    "core_samples_mask = np.zeros_like(db.labels_, dtype=bool)\n",
    "core_samples_mask[db.core_sample_indices_] = True\n",
    "labels = db.labels_"
   ]
  },
  {
   "cell_type": "code",
   "execution_count": 27,
   "metadata": {
    "collapsed": false,
    "deletable": true,
    "editable": true
   },
   "outputs": [
    {
     "name": "stdout",
     "output_type": "stream",
     "text": [
      "[-1 -1 -1 ..., -1 -1 -1]\n",
      "2\n",
      "Silhouette score =  -0.0501997\n"
     ]
    }
   ],
   "source": [
    "# Number of clusters in labels, ignoring noise if present.\n",
    "n_clusters_ = len(set(labels)) - (1 if -1 in labels else 0)\n",
    "print(labels)\n",
    "print(n_clusters_)\n",
    "score = metrics.silhouette_score(vecs, labels, metric=\"cosine\")\n",
    "print(\"Silhouette score = \", score )\n"
   ]
  },
  {
   "cell_type": "markdown",
   "metadata": {
    "deletable": true,
    "editable": true
   },
   "source": [
    "## Hierarchical Clustering"
   ]
  },
  {
   "cell_type": "code",
   "execution_count": 28,
   "metadata": {
    "collapsed": true,
    "deletable": true,
    "editable": true
   },
   "outputs": [],
   "source": [
    "import collections\n",
    "import scipy.spatial.distance as ssd\n",
    "from scipy.spatial.distance import cdist\n",
    "from scipy.cluster.hierarchy import dendrogram, linkage, fcluster, cophenet"
   ]
  },
  {
   "cell_type": "markdown",
   "metadata": {
    "deletable": true,
    "editable": true
   },
   "source": [
    "Vector `vecs` contains the doc2vec representation of each username. We now need to compute a distance matrix and, from there, apply hierarchical clustering. The following is copied from \"perDay.ipynb\", in subfolder npl/code.\n",
    "\n",
    "We test two ideas here:\n",
    "* run a cluster analysis with all the documents (508) and then discard all those documents that do not belong to the largest cluster. We thus focus on a single cluster in the first run, and try to create clusters for this large group. The size of this group depends on the cutpoint used in the hierarchical clustering phase.\n",
    "* alternatively, we run a cluster analysis with all the documents and then we exclude all those belonging to to the first cluster. Depending on how we cut the clusters, we are left with around 150/200 documents. We then reapply cluster analysis of these remaining documents.\n",
    "\n",
    "In both cases, I am not finding anything especially useful...."
   ]
  },
  {
   "cell_type": "markdown",
   "metadata": {
    "deletable": true,
    "editable": true
   },
   "source": [
    "### Focus on the biggest cluster\n",
    "\n",
    "We first need to create a distance matrix, and then linearize it to pass it to the hierarchical clustering algorithm.  "
   ]
  },
  {
   "cell_type": "code",
   "execution_count": 29,
   "metadata": {
    "collapsed": false,
    "deletable": true,
    "editable": true
   },
   "outputs": [
    {
     "data": {
      "image/png": "[encoded data removed]",
      "text/plain": [
       "<matplotlib.figure.Figure at 0x7f5398c72d30>"
      ]
     },
     "metadata": {},
     "output_type": "display_data"
    }
   ],
   "source": [
    "distMatrix = [ [0.0 for i in range(len(vecs))] for j in range(len(vecs))]\n",
    "dd = cdist(vecs, vecs)\n",
    "distArray = ssd.squareform(np.asmatrix(dd), checks = False)\n",
    "# distribution of pairwise distances\n",
    "plt.hist(distArray, edgecolor=\"white\")\n",
    "plt.show()"
   ]
  },
  {
   "cell_type": "code",
   "execution_count": 32,
   "metadata": {
    "collapsed": false,
    "deletable": true,
    "editable": true
   },
   "outputs": [
    {
     "name": "stdout",
     "output_type": "stream",
     "text": [
      "[ ward      ] Cophenetic =  0.28\n",
      "[ median    ] Cophenetic =  0.80\n",
      "[ average   ] Cophenetic =  0.88\n",
      "[ single    ] Cophenetic =  0.88\n",
      "[ complete  ] Cophenetic =  0.33\n",
      "Best method is ' complete 'with best cophenet value =  0.877515662888\n"
     ]
    }
   ],
   "source": [
    "# Find the best hierarchical clustering method\n",
    "methods = [\"ward\", \"median\", \"average\", \"single\", \"complete\"]\n",
    "bestVal = 0.0\n",
    "bestMethod = \" \"\n",
    "for mm in methods:\n",
    "    Z = linkage(distArray, method=mm)\n",
    "    c, cophDist = cophenet(Z, distArray)\n",
    "    print(\"[ {0:10s}] Cophenetic = {1:5.2f}\".format(mm,c))\n",
    "    if c > bestVal:\n",
    "        bestVal = c\n",
    "        bestMethod = mm\n",
    "        \n",
    "#Z = linkage(distArray, method=bestMethod, optimal_ordering=True)\n",
    "print(\"Best method is '\", mm, \"' with best cophenet value = \", bestVal)\n",
    "Z = linkage(distArray, method=bestMethod)"
   ]
  },
  {
   "cell_type": "markdown",
   "metadata": {
    "deletable": true,
    "editable": true
   },
   "source": [
    "Let us now create a picture. We can cut the tree at the desidered level."
   ]
  },
  {
   "cell_type": "code",
   "execution_count": 36,
   "metadata": {
    "collapsed": false,
    "deletable": true,
    "editable": true
   },
   "outputs": [
    {
     "data": {
      "image/png": "[encoded data removed]",
      "text/plain": [
       "<matplotlib.figure.Figure at 0x7f5397c527f0>"
      ]
     },
     "metadata": {},
     "output_type": "display_data"
    }
   ],
   "source": [
    "plt.figure(figsize=(25,10))\n",
    "plt.title(\"Hierarchical Clustering Users\")\n",
    "pp= dendrogram(\n",
    "    Z,\n",
    "    leaf_rotation=90,\n",
    "    leaf_font_size=8.,\n",
    "    show_leaf_counts=True,\n",
    "    get_leaves=True,\n",
    "    truncate_mode=\"level\",\n",
    "    p = 10\n",
    ")\n",
    "plt.show()"
   ]
  },
  {
   "cell_type": "markdown",
   "metadata": {
    "deletable": true,
    "editable": true
   },
   "source": [
    "Let us now get the labels associated to each document (i.e., user). Here, we get 508 labels, since each user is assigned to a cluster. Many of them are associated to a cluster of size 1. The variable `maxD` determines how the clusters are cut, i.e., at which depth of the tree we cut the clusters. "
   ]
  },
  {
   "cell_type": "code",
   "execution_count": 45,
   "metadata": {
    "collapsed": false,
    "deletable": true,
    "editable": true
   },
   "outputs": [
    {
     "name": "stdout",
     "output_type": "stream",
     "text": [
      "Length labels vs idOriginal vs vecs 3503 3503 3503\n"
     ]
    }
   ],
   "source": [
    "maxD = 1.4 # increase maxD to reduce depth.Therefore, the number of clusters created gets reduced\n",
    "labels = fcluster(Z, maxD, criterion=\"distance\")\n",
    "labels = labels - [1]*len(labels)\n",
    "print(\"Length labels vs idOriginal vs vecs\", len(labels), len(idOriginal), len(vecs))"
   ]
  },
  {
   "cell_type": "code",
   "execution_count": 46,
   "metadata": {
    "collapsed": false,
    "deletable": true,
    "editable": true
   },
   "outputs": [
    {
     "name": "stdout",
     "output_type": "stream",
     "text": [
      "Counter({11: 3244, 10: 2, 0: 1, 1: 1, 2: 1, 3: 1, 4: 1, 5: 1, 6: 1, 7: 1, 8: 1, 9: 1, 12: 1, 13: 1, 14: 1, 15: 1, 16: 1, 17: 1, 18: 1, 19: 1, 20: 1, 21: 1, 22: 1, 23: 1, 24: 1, 25: 1, 26: 1, 27: 1, 28: 1, 29: 1, 30: 1, 31: 1, 32: 1, 33: 1, 34: 1, 35: 1, 36: 1, 37: 1, 38: 1, 39: 1, 40: 1, 41: 1, 42: 1, 43: 1, 44: 1, 45: 1, 46: 1, 47: 1, 48: 1, 49: 1, 50: 1, 51: 1, 52: 1, 53: 1, 54: 1, 55: 1, 56: 1, 57: 1, 58: 1, 59: 1, 60: 1, 61: 1, 62: 1, 63: 1, 64: 1, 65: 1, 66: 1, 67: 1, 68: 1, 69: 1, 70: 1, 71: 1, 72: 1, 73: 1, 74: 1, 75: 1, 76: 1, 77: 1, 78: 1, 79: 1, 80: 1, 81: 1, 82: 1, 83: 1, 84: 1, 85: 1, 86: 1, 87: 1, 88: 1, 89: 1, 90: 1, 91: 1, 92: 1, 93: 1, 94: 1, 95: 1, 96: 1, 97: 1, 98: 1, 99: 1, 100: 1, 101: 1, 102: 1, 103: 1, 104: 1, 105: 1, 106: 1, 107: 1, 108: 1, 109: 1, 110: 1, 111: 1, 112: 1, 113: 1, 114: 1, 115: 1, 116: 1, 117: 1, 118: 1, 119: 1, 120: 1, 121: 1, 122: 1, 123: 1, 124: 1, 125: 1, 126: 1, 127: 1, 128: 1, 129: 1, 130: 1, 131: 1, 132: 1, 133: 1, 134: 1, 135: 1, 136: 1, 137: 1, 138: 1, 139: 1, 140: 1, 141: 1, 142: 1, 143: 1, 144: 1, 145: 1, 146: 1, 147: 1, 148: 1, 149: 1, 150: 1, 151: 1, 152: 1, 153: 1, 154: 1, 155: 1, 156: 1, 157: 1, 158: 1, 159: 1, 160: 1, 161: 1, 162: 1, 163: 1, 164: 1, 165: 1, 166: 1, 167: 1, 168: 1, 169: 1, 170: 1, 171: 1, 172: 1, 173: 1, 174: 1, 175: 1, 176: 1, 177: 1, 178: 1, 179: 1, 180: 1, 181: 1, 182: 1, 183: 1, 184: 1, 185: 1, 186: 1, 187: 1, 188: 1, 189: 1, 190: 1, 191: 1, 192: 1, 193: 1, 194: 1, 195: 1, 196: 1, 197: 1, 198: 1, 199: 1, 200: 1, 201: 1, 202: 1, 203: 1, 204: 1, 205: 1, 206: 1, 207: 1, 208: 1, 209: 1, 210: 1, 211: 1, 212: 1, 213: 1, 214: 1, 215: 1, 216: 1, 217: 1, 218: 1, 219: 1, 220: 1, 221: 1, 222: 1, 223: 1, 224: 1, 225: 1, 226: 1, 227: 1, 228: 1, 229: 1, 230: 1, 231: 1, 232: 1, 233: 1, 234: 1, 235: 1, 236: 1, 237: 1, 238: 1, 239: 1, 240: 1, 241: 1, 242: 1, 243: 1, 244: 1, 245: 1, 246: 1, 247: 1, 248: 1, 249: 1, 250: 1, 251: 1, 252: 1, 253: 1, 254: 1, 255: 1, 256: 1, 257: 1, 258: 1})\n"
     ]
    },
    {
     "data": {
      "image/png": "[encoded data removed]",
      "text/plain": [
       "<matplotlib.figure.Figure at 0x7f5398c82b00>"
      ]
     },
     "metadata": {},
     "output_type": "display_data"
    }
   ],
   "source": [
    "plt.figure(figsize=(25,10))\n",
    "counter=collections.Counter(labels)\n",
    "print(counter)\n",
    "bins = np.arange(min(labels),max(labels))\n",
    "plt.hist(labels, edgecolor=\"white\", bins=bins, linewidth=1.5, alpha=0.8)\n",
    "if len(bins) > 25:\n",
    "    rotation=\"vertical\"\n",
    "else:\n",
    "    rotation=\"horizontal\"\n",
    "plt.xticks(np.round(bins,0), rotation=rotation)\n",
    "plt.show()"
   ]
  },
  {
   "cell_type": "markdown",
   "metadata": {
    "deletable": true,
    "editable": true
   },
   "source": [
    "Let us now try to clusterize the most numerous group. In other words, we discard all the users not belonging to the predominant group. We then repeat the clustering approach presented above on the filtered data."
   ]
  },
  {
   "cell_type": "code",
   "execution_count": 47,
   "metadata": {
    "collapsed": false,
    "deletable": true,
    "editable": true
   },
   "outputs": [
    {
     "name": "stdout",
     "output_type": "stream",
     "text": [
      "Cluster 11 is the largest cluster with 3244 elements\n",
      "Length of vectFiltered is  3244 vs idFiltered 3244\n"
     ]
    }
   ],
   "source": [
    "value, count = counter.most_common(1)[0]\n",
    "print(\"Cluster {0} is the largest cluster with {1} elements\".format(value,count))\n",
    "vectFiltered = []\n",
    "idFiltered   = []\n",
    "for i in range(len(labels)):\n",
    "    if labels[i] == value:\n",
    "        vectFiltered.append(vecs[i])\n",
    "        idFiltered.append(idOriginal[i])\n",
    "print(\"Length of vectFiltered is \", len(vectFiltered), \"vs idFiltered\", len(idFiltered))"
   ]
  },
  {
   "cell_type": "code",
   "execution_count": 48,
   "metadata": {
    "collapsed": false,
    "deletable": true,
    "editable": true
   },
   "outputs": [
    {
     "data": {
      "image/png": "[encoded data removed]",
      "text/plain": [
       "<matplotlib.figure.Figure at 0x7f5393c9a748>"
      ]
     },
     "metadata": {},
     "output_type": "display_data"
    },
    {
     "name": "stdout",
     "output_type": "stream",
     "text": [
      "The filtered sample has size 3244 3244\n"
     ]
    }
   ],
   "source": [
    "distMatrixF = [ [0.0 for i in range(len(vectFiltered))] for j in range(len(vectFiltered))]\n",
    "ddF = cdist(vectFiltered, vectFiltered)\n",
    "distArrayF = ssd.squareform(np.asmatrix(ddF), checks = False)\n",
    "plt.hist(distArrayF, edgecolor=\"white\")\n",
    "plt.title(\"Distribution of distances in the Filtered Sample\")\n",
    "plt.show()\n",
    "print(\"The filtered sample has size\", len(vectFiltered), len(idFiltered))"
   ]
  },
  {
   "cell_type": "code",
   "execution_count": 51,
   "metadata": {
    "collapsed": false,
    "deletable": true,
    "editable": true
   },
   "outputs": [
    {
     "name": "stdout",
     "output_type": "stream",
     "text": [
      "[ ward      ] Cophenetic =  0.29\n",
      "[ median    ] Cophenetic =  0.72\n",
      "[ average   ] Cophenetic =  0.80\n",
      "[ single    ] Cophenetic =  0.80\n",
      "[ complete  ] Cophenetic =  0.37\n",
      "Best method is ' complete ' with best cophenet value =  0.802147437815\n"
     ]
    }
   ],
   "source": [
    "methods = [\"ward\", \"median\", \"average\", \"single\", \"complete\"]\n",
    "bestVal = 0.0\n",
    "bestMethod = \" \"\n",
    "for mm in methods:\n",
    "    ZF = linkage(distArrayF, method=mm)\n",
    "    c, cophDist = cophenet(ZF, distArrayF)\n",
    "    print(\"[ {0:10s}] Cophenetic = {1:5.2f}\".format(mm,c))\n",
    "    if c > bestVal:\n",
    "        bestVal = c\n",
    "        bestMethod = mm\n",
    "\n",
    "print(\"Best method is '\", mm, \"' with best cophenet value = \", bestVal)\n",
    "ZF = linkage(distArrayF, method=bestMethod)"
   ]
  },
  {
   "cell_type": "code",
   "execution_count": 52,
   "metadata": {
    "collapsed": false,
    "deletable": true,
    "editable": true
   },
   "outputs": [
    {
     "data": {
      "image/png": "[encoded data removed]",
      "text/plain": [
       "<matplotlib.figure.Figure at 0x7f53980574a8>"
      ]
     },
     "metadata": {},
     "output_type": "display_data"
    }
   ],
   "source": [
    "plt.figure(figsize=(25,10))\n",
    "plt.title(\"Hierarchical Clustering Users - Filtered Dataset\")\n",
    "pp= dendrogram(\n",
    "    ZF,\n",
    "    leaf_rotation=90,\n",
    "    leaf_font_size=8.,\n",
    "    show_leaf_counts=True,\n",
    "    get_leaves=True,\n",
    "#    truncate_mode=\"level\",\n",
    "#    p = 10\n",
    ")\n",
    "plt.show()"
   ]
  },
  {
   "cell_type": "code",
   "execution_count": 55,
   "metadata": {
    "collapsed": false,
    "deletable": true,
    "editable": true
   },
   "outputs": [
    {
     "name": "stdout",
     "output_type": "stream",
     "text": [
      "Counter({159: 2329, 166: 131, 125: 26, 165: 26, 147: 25, 131: 23, 86: 22, 72: 18, 134: 17, 105: 16, 62: 14, 145: 13, 117: 12, 144: 12, 163: 12, 19: 11, 130: 11, 37: 9, 161: 9, 55: 8, 115: 8, 141: 8, 164: 8, 12: 7, 139: 7, 149: 7, 154: 7, 157: 7, 0: 6, 89: 6, 127: 6, 135: 6, 150: 6, 158: 6, 184: 6, 213: 6, 113: 5, 129: 5, 153: 5, 7: 4, 31: 4, 35: 4, 53: 4, 59: 4, 63: 4, 64: 4, 69: 4, 87: 4, 120: 4, 146: 4, 155: 4, 198: 4, 219: 4, 249: 4, 5: 3, 21: 3, 23: 3, 41: 3, 46: 3, 49: 3, 77: 3, 101: 3, 102: 3, 108: 3, 116: 3, 128: 3, 133: 3, 136: 3, 137: 3, 140: 3, 143: 3, 156: 3, 162: 3, 180: 3, 195: 3, 248: 3, 255: 3, 257: 3, 3: 2, 14: 2, 18: 2, 20: 2, 24: 2, 25: 2, 29: 2, 33: 2, 36: 2, 38: 2, 40: 2, 42: 2, 44: 2, 45: 2, 51: 2, 54: 2, 57: 2, 58: 2, 60: 2, 61: 2, 67: 2, 68: 2, 71: 2, 79: 2, 80: 2, 81: 2, 85: 2, 88: 2, 92: 2, 95: 2, 97: 2, 98: 2, 99: 2, 103: 2, 107: 2, 110: 2, 111: 2, 112: 2, 114: 2, 122: 2, 123: 2, 124: 2, 132: 2, 138: 2, 151: 2, 152: 2, 181: 2, 193: 2, 196: 2, 200: 2, 209: 2, 214: 2, 220: 2, 221: 2, 227: 2, 230: 2, 239: 2, 242: 2, 244: 2, 250: 2, 251: 2, 253: 2, 256: 2, 1: 1, 2: 1, 4: 1, 6: 1, 8: 1, 9: 1, 10: 1, 11: 1, 13: 1, 15: 1, 16: 1, 17: 1, 22: 1, 26: 1, 27: 1, 28: 1, 30: 1, 32: 1, 34: 1, 39: 1, 43: 1, 47: 1, 48: 1, 50: 1, 52: 1, 56: 1, 65: 1, 66: 1, 70: 1, 73: 1, 74: 1, 75: 1, 76: 1, 78: 1, 82: 1, 83: 1, 84: 1, 90: 1, 91: 1, 93: 1, 94: 1, 96: 1, 100: 1, 104: 1, 106: 1, 109: 1, 118: 1, 119: 1, 121: 1, 126: 1, 142: 1, 148: 1, 160: 1, 167: 1, 168: 1, 169: 1, 170: 1, 171: 1, 172: 1, 173: 1, 174: 1, 175: 1, 176: 1, 177: 1, 178: 1, 179: 1, 182: 1, 183: 1, 185: 1, 186: 1, 187: 1, 188: 1, 189: 1, 190: 1, 191: 1, 192: 1, 194: 1, 197: 1, 199: 1, 201: 1, 202: 1, 203: 1, 204: 1, 205: 1, 206: 1, 207: 1, 208: 1, 210: 1, 211: 1, 212: 1, 215: 1, 216: 1, 217: 1, 218: 1, 222: 1, 223: 1, 224: 1, 225: 1, 226: 1, 228: 1, 229: 1, 231: 1, 232: 1, 233: 1, 234: 1, 235: 1, 236: 1, 237: 1, 238: 1, 240: 1, 241: 1, 243: 1, 245: 1, 246: 1, 247: 1, 252: 1, 254: 1, 258: 1, 259: 1, 260: 1})\n"
     ]
    },
    {
     "data": {
      "image/png": "[encoded data removed]",
      "text/plain": [
       "<matplotlib.figure.Figure at 0x7f5395c77c50>"
      ]
     },
     "metadata": {},
     "output_type": "display_data"
    }
   ],
   "source": [
    "plt.figure(figsize=(25,10))\n",
    "maxD = 1.5\n",
    "labelsF = fcluster(ZF, maxD, criterion=\"distance\")\n",
    "labelsF = labelsF - [1]*len(labelsF)\n",
    "counter=collections.Counter(labelsF)\n",
    "print(counter)\n",
    "bins = np.arange(min(labelsF),max(labelsF))\n",
    "plt.hist(labelsF, edgecolor=\"white\", bins=bins, linewidth=1.5, alpha=0.8)\n",
    "if len(bins) > 25:\n",
    "    rotation=\"vertical\"\n",
    "else:\n",
    "    rotation=\"horizontal\"\n",
    "plt.xticks(np.round(bins,0), rotation=rotation)\n",
    "plt.show()"
   ]
  },
  {
   "cell_type": "code",
   "execution_count": null,
   "metadata": {
    "collapsed": true,
    "deletable": true,
    "editable": true
   },
   "outputs": [],
   "source": [
    "# get most common\n",
    "for key, val in counter.items():\n",
    "    print(\"k and V \", key, val)\n",
    "print(counter[217])"
   ]
  },
  {
   "cell_type": "code",
   "execution_count": null,
   "metadata": {
    "collapsed": true,
    "deletable": true,
    "editable": true
   },
   "outputs": [],
   "source": [
    "for i, f in zip(labelsF, idFiltered):\n",
    "    if i == 217:\n",
    "        print(\"Item \", f, \" has cluster 217\")"
   ]
  },
  {
   "cell_type": "markdown",
   "metadata": {
    "deletable": true,
    "editable": true
   },
   "source": [
    "Let us now assign a cluster label to each user. A label equal to -1 assigned to:\n",
    "* users belonging to the discarded clusters (i.e., those that were filtered out)\n",
    "* users that belonged to the big initial cluster (kept in the filtering operation) and now belonging to a cluster whose size is below the min cluster size"
   ]
  },
  {
   "cell_type": "code",
   "execution_count": null,
   "metadata": {
    "collapsed": true,
    "deletable": true,
    "editable": true
   },
   "outputs": [],
   "source": [
    "min_cluster_size = 4\n",
    "k = 0\n",
    "fullLabels = []\n",
    "for i in idOriginal:\n",
    "    if idFiltered[k] == i:\n",
    "        print(\"item \", i, \"found. Its cluster, i.e., \", labelsF[k], \"has size \", counter[labelsF[k]])\n",
    "        if counter[labelsF[k]] >= min_cluster_size:\n",
    "            fullLabels.append(labelsF[k])            \n",
    "        else:\n",
    "            fullLabels.append(-1)\n",
    "        k += 1\n",
    "    else:\n",
    "        fullLabels.append(-1)\n",
    "print(\"Length of fullLabels is \", len(fullLabels))   \n",
    "for i, f in zip(fullLabels, idOriginal):\n",
    "    print(f, \" with label\", i)\n",
    "    "
   ]
  },
  {
   "cell_type": "code",
   "execution_count": null,
   "metadata": {
    "code_folding": [],
    "collapsed": true,
    "deletable": true,
    "editable": true
   },
   "outputs": [],
   "source": [
    "df = pd.DataFrame({\n",
    "    \"id\" : idOriginal,\n",
    "    \"Description\" : corpus,\n",
    "    \"Keywords\" : docs,\n",
    "    \"labels\": labels,\n",
    "    \"filtered\": fullLabels\n",
    "})\n",
    "print(df.head())\n",
    "df.to_csv(\"data/clustersHierarchical.csv\")"
   ]
  },
  {
   "cell_type": "markdown",
   "metadata": {
    "deletable": true,
    "editable": true
   },
   "source": [
    "### Focus on excluding the biggest cluster\n",
    "\n",
    "Here we do the opposite of what presented above. We first run a cluster analysis on all the users (508). Then, we remove all those belonging to the biggest cluster and repeat the cluster analysis only on the users that were not included in the biggest cluster in the first round."
   ]
  },
  {
   "cell_type": "code",
   "execution_count": 88,
   "metadata": {
    "collapsed": false,
    "deletable": true,
    "editable": true
   },
   "outputs": [
    {
     "data": {
      "image/png": "[encoded data removed]",
      "text/plain": [
       "<matplotlib.figure.Figure at 0x7f53938fb550>"
      ]
     },
     "metadata": {},
     "output_type": "display_data"
    }
   ],
   "source": [
    "distMatrix = [ [0.0 for i in range(len(vecs))] for j in range(len(vecs))]\n",
    "dd = cdist(vecs, vecs)\n",
    "distArray = ssd.squareform(np.asmatrix(dd), checks = False)\n",
    "# distribution of pairwise distances\n",
    "plt.hist(distArray, edgecolor=\"white\")\n",
    "plt.show()"
   ]
  },
  {
   "cell_type": "code",
   "execution_count": 89,
   "metadata": {
    "collapsed": false,
    "deletable": true,
    "editable": true
   },
   "outputs": [
    {
     "name": "stdout",
     "output_type": "stream",
     "text": [
      "[ ward      ] Cophenetic =  0.28\n",
      "[ median    ] Cophenetic =  0.80\n",
      "[ average   ] Cophenetic =  0.88\n",
      "[ single    ] Cophenetic =  0.88\n",
      "[ complete  ] Cophenetic =  0.33\n",
      "Best method is ' complete ' with best cophenet value =  0.877515662888\n"
     ]
    }
   ],
   "source": [
    "# Find the best hierarchical clustering method\n",
    "methods = [\"ward\", \"median\", \"average\", \"single\", \"complete\"]\n",
    "bestVal = 0.0\n",
    "bestMethod = \" \"\n",
    "for mm in methods:\n",
    "    Z = linkage(distArray, method=mm)\n",
    "    c, cophDist = cophenet(Z, distArray)\n",
    "    print(\"[ {0:10s}] Cophenetic = {1:5.2f}\".format(mm,c))\n",
    "    if c > bestVal:\n",
    "        bestVal = c\n",
    "        bestMethod = mm\n",
    "\n",
    "print(\"Best method is '\", mm, \"' with best cophenet value = \", bestVal)\n",
    "Z = linkage(distArray, method=bestMethod)"
   ]
  },
  {
   "cell_type": "code",
   "execution_count": 90,
   "metadata": {
    "collapsed": false,
    "deletable": true,
    "editable": true
   },
   "outputs": [
    {
     "name": "stdout",
     "output_type": "stream",
     "text": [
      "Length labels vs idOriginal vs vecs 3503 3503 3503\n"
     ]
    }
   ],
   "source": [
    "maxD = 0.5 # increase maxD to reduce depth.Therefore, the number of clusters created gets reduced\n",
    "labels = fcluster(Z, maxD, criterion=\"distance\")\n",
    "labels = labels - [1]*len(labels)\n",
    "print(\"Length labels vs idOriginal vs vecs\", len(labels), len(idOriginal), len(vecs))"
   ]
  },
  {
   "cell_type": "code",
   "execution_count": 91,
   "metadata": {
    "collapsed": false,
    "deletable": true,
    "editable": true
   },
   "outputs": [
    {
     "name": "stdout",
     "output_type": "stream",
     "text": [
      "Counter({333: 1268, 329: 5, 300: 4, 318: 4, 257: 3, 269: 3, 304: 3, 306: 3, 312: 3, 319: 3, 332: 3, 246: 2, 250: 2, 251: 2, 253: 2, 272: 2, 279: 2, 289: 2, 292: 2, 295: 2, 296: 2, 301: 2, 305: 2, 313: 2, 314: 2, 315: 2, 316: 2, 317: 2, 320: 2, 324: 2, 325: 2, 326: 2, 327: 2, 328: 2, 330: 2, 0: 1, 1: 1, 2: 1, 3: 1, 4: 1, 5: 1, 6: 1, 7: 1, 8: 1, 9: 1, 10: 1, 11: 1, 12: 1, 13: 1, 14: 1, 15: 1, 16: 1, 17: 1, 18: 1, 19: 1, 20: 1, 21: 1, 22: 1, 23: 1, 24: 1, 25: 1, 26: 1, 27: 1, 28: 1, 29: 1, 30: 1, 31: 1, 32: 1, 33: 1, 34: 1, 35: 1, 36: 1, 37: 1, 38: 1, 39: 1, 40: 1, 41: 1, 42: 1, 43: 1, 44: 1, 45: 1, 46: 1, 47: 1, 48: 1, 49: 1, 50: 1, 51: 1, 52: 1, 53: 1, 54: 1, 55: 1, 56: 1, 57: 1, 58: 1, 59: 1, 60: 1, 61: 1, 62: 1, 63: 1, 64: 1, 65: 1, 66: 1, 67: 1, 68: 1, 69: 1, 70: 1, 71: 1, 72: 1, 73: 1, 74: 1, 75: 1, 76: 1, 77: 1, 78: 1, 79: 1, 80: 1, 81: 1, 82: 1, 83: 1, 84: 1, 85: 1, 86: 1, 87: 1, 88: 1, 89: 1, 90: 1, 91: 1, 92: 1, 93: 1, 94: 1, 95: 1, 96: 1, 97: 1, 98: 1, 99: 1, 100: 1, 101: 1, 102: 1, 103: 1, 104: 1, 105: 1, 106: 1, 107: 1, 108: 1, 109: 1, 110: 1, 111: 1, 112: 1, 113: 1, 114: 1, 115: 1, 116: 1, 117: 1, 118: 1, 119: 1, 120: 1, 121: 1, 122: 1, 123: 1, 124: 1, 125: 1, 126: 1, 127: 1, 128: 1, 129: 1, 130: 1, 131: 1, 132: 1, 133: 1, 134: 1, 135: 1, 136: 1, 137: 1, 138: 1, 139: 1, 140: 1, 141: 1, 142: 1, 143: 1, 144: 1, 145: 1, 146: 1, 147: 1, 148: 1, 149: 1, 150: 1, 151: 1, 152: 1, 153: 1, 154: 1, 155: 1, 156: 1, 157: 1, 158: 1, 159: 1, 160: 1, 161: 1, 162: 1, 163: 1, 164: 1, 165: 1, 166: 1, 167: 1, 168: 1, 169: 1, 170: 1, 171: 1, 172: 1, 173: 1, 174: 1, 175: 1, 176: 1, 177: 1, 178: 1, 179: 1, 180: 1, 181: 1, 182: 1, 183: 1, 184: 1, 185: 1, 186: 1, 187: 1, 188: 1, 189: 1, 190: 1, 191: 1, 192: 1, 193: 1, 194: 1, 195: 1, 196: 1, 197: 1, 198: 1, 199: 1, 200: 1, 201: 1, 202: 1, 203: 1, 204: 1, 205: 1, 206: 1, 207: 1, 208: 1, 209: 1, 210: 1, 211: 1, 212: 1, 213: 1, 214: 1, 215: 1, 216: 1, 217: 1, 218: 1, 219: 1, 220: 1, 221: 1, 222: 1, 223: 1, 224: 1, 225: 1, 226: 1, 227: 1, 228: 1, 229: 1, 230: 1, 231: 1, 232: 1, 233: 1, 234: 1, 235: 1, 236: 1, 237: 1, 238: 1, 239: 1, 240: 1, 241: 1, 242: 1, 243: 1, 244: 1, 245: 1, 247: 1, 248: 1, 249: 1, 252: 1, 254: 1, 255: 1, 256: 1, 258: 1, 259: 1, 260: 1, 261: 1, 262: 1, 263: 1, 264: 1, 265: 1, 266: 1, 267: 1, 268: 1, 270: 1, 271: 1, 273: 1, 274: 1, 275: 1, 276: 1, 277: 1, 278: 1, 280: 1, 281: 1, 282: 1, 283: 1, 284: 1, 285: 1, 286: 1, 287: 1, 288: 1, 290: 1, 291: 1, 293: 1, 294: 1, 297: 1, 298: 1, 299: 1, 302: 1, 303: 1, 307: 1, 308: 1, 309: 1, 310: 1, 311: 1, 321: 1, 322: 1, 323: 1, 331: 1, 334: 1, 335: 1, 336: 1, 337: 1, 338: 1, 339: 1, 340: 1, 341: 1, 342: 1, 343: 1, 344: 1, 345: 1, 346: 1, 347: 1, 348: 1, 349: 1, 350: 1, 351: 1, 352: 1, 353: 1, 354: 1, 355: 1, 356: 1, 357: 1, 358: 1, 359: 1, 360: 1, 361: 1, 362: 1, 363: 1, 364: 1, 365: 1, 366: 1, 367: 1, 368: 1, 369: 1, 370: 1, 371: 1, 372: 1, 373: 1, 374: 1, 375: 1, 376: 1, 377: 1, 378: 1, 379: 1, 380: 1, 381: 1, 382: 1, 383: 1, 384: 1, 385: 1, 386: 1, 387: 1, 388: 1, 389: 1, 390: 1, 391: 1, 392: 1, 393: 1, 394: 1, 395: 1, 396: 1, 397: 1, 398: 1, 399: 1, 400: 1, 401: 1, 402: 1, 403: 1, 404: 1, 405: 1, 406: 1, 407: 1, 408: 1, 409: 1, 410: 1, 411: 1, 412: 1, 413: 1, 414: 1, 415: 1, 416: 1, 417: 1, 418: 1, 419: 1, 420: 1, 421: 1, 422: 1, 423: 1, 424: 1, 425: 1, 426: 1, 427: 1, 428: 1, 429: 1, 430: 1, 431: 1, 432: 1, 433: 1, 434: 1, 435: 1, 436: 1, 437: 1, 438: 1, 439: 1, 440: 1, 441: 1, 442: 1, 443: 1, 444: 1, 445: 1, 446: 1, 447: 1, 448: 1, 449: 1, 450: 1, 451: 1, 452: 1, 453: 1, 454: 1, 455: 1, 456: 1, 457: 1, 458: 1, 459: 1, 460: 1, 461: 1, 462: 1, 463: 1, 464: 1, 465: 1, 466: 1, 467: 1, 468: 1, 469: 1, 470: 1, 471: 1, 472: 1, 473: 1, 474: 1, 475: 1, 476: 1, 477: 1, 478: 1, 479: 1, 480: 1, 481: 1, 482: 1, 483: 1, 484: 1, 485: 1, 486: 1, 487: 1, 488: 1, 489: 1, 490: 1, 491: 1, 492: 1, 493: 1, 494: 1, 495: 1, 496: 1, 497: 1, 498: 1, 499: 1, 500: 1, 501: 1, 502: 1, 503: 1, 504: 1, 505: 1, 506: 1, 507: 1, 508: 1, 509: 1, 510: 1, 511: 1, 512: 1, 513: 1, 514: 1, 515: 1, 516: 1, 517: 1, 518: 1, 519: 1, 520: 1, 521: 1, 522: 1, 523: 1, 524: 1, 525: 1, 526: 1, 527: 1, 528: 1, 529: 1, 530: 1, 531: 1, 532: 1, 533: 1, 534: 1, 535: 1, 536: 1, 537: 1, 538: 1, 539: 1, 540: 1, 541: 1, 542: 1, 543: 1, 544: 1, 545: 1, 546: 1, 547: 1, 548: 1, 549: 1, 550: 1, 551: 1, 552: 1, 553: 1, 554: 1, 555: 1, 556: 1, 557: 1, 558: 1, 559: 1, 560: 1, 561: 1, 562: 1, 563: 1, 564: 1, 565: 1, 566: 1, 567: 1, 568: 1, 569: 1, 570: 1, 571: 1, 572: 1, 573: 1, 574: 1, 575: 1, 576: 1, 577: 1, 578: 1, 579: 1, 580: 1, 581: 1, 582: 1, 583: 1, 584: 1, 585: 1, 586: 1, 587: 1, 588: 1, 589: 1, 590: 1, 591: 1, 592: 1, 593: 1, 594: 1, 595: 1, 596: 1, 597: 1, 598: 1, 599: 1, 600: 1, 601: 1, 602: 1, 603: 1, 604: 1, 605: 1, 606: 1, 607: 1, 608: 1, 609: 1, 610: 1, 611: 1, 612: 1, 613: 1, 614: 1, 615: 1, 616: 1, 617: 1, 618: 1, 619: 1, 620: 1, 621: 1, 622: 1, 623: 1, 624: 1, 625: 1, 626: 1, 627: 1, 628: 1, 629: 1, 630: 1, 631: 1, 632: 1, 633: 1, 634: 1, 635: 1, 636: 1, 637: 1, 638: 1, 639: 1, 640: 1, 641: 1, 642: 1, 643: 1, 644: 1, 645: 1, 646: 1, 647: 1, 648: 1, 649: 1, 650: 1, 651: 1, 652: 1, 653: 1, 654: 1, 655: 1, 656: 1, 657: 1, 658: 1, 659: 1, 660: 1, 661: 1, 662: 1, 663: 1, 664: 1, 665: 1, 666: 1, 667: 1, 668: 1, 669: 1, 670: 1, 671: 1, 672: 1, 673: 1, 674: 1, 675: 1, 676: 1, 677: 1, 678: 1, 679: 1, 680: 1, 681: 1, 682: 1, 683: 1, 684: 1, 685: 1, 686: 1, 687: 1, 688: 1, 689: 1, 690: 1, 691: 1, 692: 1, 693: 1, 694: 1, 695: 1, 696: 1, 697: 1, 698: 1, 699: 1, 700: 1, 701: 1, 702: 1, 703: 1, 704: 1, 705: 1, 706: 1, 707: 1, 708: 1, 709: 1, 710: 1, 711: 1, 712: 1, 713: 1, 714: 1, 715: 1, 716: 1, 717: 1, 718: 1, 719: 1, 720: 1, 721: 1, 722: 1, 723: 1, 724: 1, 725: 1, 726: 1, 727: 1, 728: 1, 729: 1, 730: 1, 731: 1, 732: 1, 733: 1, 734: 1, 735: 1, 736: 1, 737: 1, 738: 1, 739: 1, 740: 1, 741: 1, 742: 1, 743: 1, 744: 1, 745: 1, 746: 1, 747: 1, 748: 1, 749: 1, 750: 1, 751: 1, 752: 1, 753: 1, 754: 1, 755: 1, 756: 1, 757: 1, 758: 1, 759: 1, 760: 1, 761: 1, 762: 1, 763: 1, 764: 1, 765: 1, 766: 1, 767: 1, 768: 1, 769: 1, 770: 1, 771: 1, 772: 1, 773: 1, 774: 1, 775: 1, 776: 1, 777: 1, 778: 1, 779: 1, 780: 1, 781: 1, 782: 1, 783: 1, 784: 1, 785: 1, 786: 1, 787: 1, 788: 1, 789: 1, 790: 1, 791: 1, 792: 1, 793: 1, 794: 1, 795: 1, 796: 1, 797: 1, 798: 1, 799: 1, 800: 1, 801: 1, 802: 1, 803: 1, 804: 1, 805: 1, 806: 1, 807: 1, 808: 1, 809: 1, 810: 1, 811: 1, 812: 1, 813: 1, 814: 1, 815: 1, 816: 1, 817: 1, 818: 1, 819: 1, 820: 1, 821: 1, 822: 1, 823: 1, 824: 1, 825: 1, 826: 1, 827: 1, 828: 1, 829: 1, 830: 1, 831: 1, 832: 1, 833: 1, 834: 1, 835: 1, 836: 1, 837: 1, 838: 1, 839: 1, 840: 1, 841: 1, 842: 1, 843: 1, 844: 1, 845: 1, 846: 1, 847: 1, 848: 1, 849: 1, 850: 1, 851: 1, 852: 1, 853: 1, 854: 1, 855: 1, 856: 1, 857: 1, 858: 1, 859: 1, 860: 1, 861: 1, 862: 1, 863: 1, 864: 1, 865: 1, 866: 1, 867: 1, 868: 1, 869: 1, 870: 1, 871: 1, 872: 1, 873: 1, 874: 1, 875: 1, 876: 1, 877: 1, 878: 1, 879: 1, 880: 1, 881: 1, 882: 1, 883: 1, 884: 1, 885: 1, 886: 1, 887: 1, 888: 1, 889: 1, 890: 1, 891: 1, 892: 1, 893: 1, 894: 1, 895: 1, 896: 1, 897: 1, 898: 1, 899: 1, 900: 1, 901: 1, 902: 1, 903: 1, 904: 1, 905: 1, 906: 1, 907: 1, 908: 1, 909: 1, 910: 1, 911: 1, 912: 1, 913: 1, 914: 1, 915: 1, 916: 1, 917: 1, 918: 1, 919: 1, 920: 1, 921: 1, 922: 1, 923: 1, 924: 1, 925: 1, 926: 1, 927: 1, 928: 1, 929: 1, 930: 1, 931: 1, 932: 1, 933: 1, 934: 1, 935: 1, 936: 1, 937: 1, 938: 1, 939: 1, 940: 1, 941: 1, 942: 1, 943: 1, 944: 1, 945: 1, 946: 1, 947: 1, 948: 1, 949: 1, 950: 1, 951: 1, 952: 1, 953: 1, 954: 1, 955: 1, 956: 1, 957: 1, 958: 1, 959: 1, 960: 1, 961: 1, 962: 1, 963: 1, 964: 1, 965: 1, 966: 1, 967: 1, 968: 1, 969: 1, 970: 1, 971: 1, 972: 1, 973: 1, 974: 1, 975: 1, 976: 1, 977: 1, 978: 1, 979: 1, 980: 1, 981: 1, 982: 1, 983: 1, 984: 1, 985: 1, 986: 1, 987: 1, 988: 1, 989: 1, 990: 1, 991: 1, 992: 1, 993: 1, 994: 1, 995: 1, 996: 1, 997: 1, 998: 1, 999: 1, 1000: 1, 1001: 1, 1002: 1, 1003: 1, 1004: 1, 1005: 1, 1006: 1, 1007: 1, 1008: 1, 1009: 1, 1010: 1, 1011: 1, 1012: 1, 1013: 1, 1014: 1, 1015: 1, 1016: 1, 1017: 1, 1018: 1, 1019: 1, 1020: 1, 1021: 1, 1022: 1, 1023: 1, 1024: 1, 1025: 1, 1026: 1, 1027: 1, 1028: 1, 1029: 1, 1030: 1, 1031: 1, 1032: 1, 1033: 1, 1034: 1, 1035: 1, 1036: 1, 1037: 1, 1038: 1, 1039: 1, 1040: 1, 1041: 1, 1042: 1, 1043: 1, 1044: 1, 1045: 1, 1046: 1, 1047: 1, 1048: 1, 1049: 1, 1050: 1, 1051: 1, 1052: 1, 1053: 1, 1054: 1, 1055: 1, 1056: 1, 1057: 1, 1058: 1, 1059: 1, 1060: 1, 1061: 1, 1062: 1, 1063: 1, 1064: 1, 1065: 1, 1066: 1, 1067: 1, 1068: 1, 1069: 1, 1070: 1, 1071: 1, 1072: 1, 1073: 1, 1074: 1, 1075: 1, 1076: 1, 1077: 1, 1078: 1, 1079: 1, 1080: 1, 1081: 1, 1082: 1, 1083: 1, 1084: 1, 1085: 1, 1086: 1, 1087: 1, 1088: 1, 1089: 1, 1090: 1, 1091: 1, 1092: 1, 1093: 1, 1094: 1, 1095: 1, 1096: 1, 1097: 1, 1098: 1, 1099: 1, 1100: 1, 1101: 1, 1102: 1, 1103: 1, 1104: 1, 1105: 1, 1106: 1, 1107: 1, 1108: 1, 1109: 1, 1110: 1, 1111: 1, 1112: 1, 1113: 1, 1114: 1, 1115: 1, 1116: 1, 1117: 1, 1118: 1, 1119: 1, 1120: 1, 1121: 1, 1122: 1, 1123: 1, 1124: 1, 1125: 1, 1126: 1, 1127: 1, 1128: 1, 1129: 1, 1130: 1, 1131: 1, 1132: 1, 1133: 1, 1134: 1, 1135: 1, 1136: 1, 1137: 1, 1138: 1, 1139: 1, 1140: 1, 1141: 1, 1142: 1, 1143: 1, 1144: 1, 1145: 1, 1146: 1, 1147: 1, 1148: 1, 1149: 1, 1150: 1, 1151: 1, 1152: 1, 1153: 1, 1154: 1, 1155: 1, 1156: 1, 1157: 1, 1158: 1, 1159: 1, 1160: 1, 1161: 1, 1162: 1, 1163: 1, 1164: 1, 1165: 1, 1166: 1, 1167: 1, 1168: 1, 1169: 1, 1170: 1, 1171: 1, 1172: 1, 1173: 1, 1174: 1, 1175: 1, 1176: 1, 1177: 1, 1178: 1, 1179: 1, 1180: 1, 1181: 1, 1182: 1, 1183: 1, 1184: 1, 1185: 1, 1186: 1, 1187: 1, 1188: 1, 1189: 1, 1190: 1, 1191: 1, 1192: 1, 1193: 1, 1194: 1, 1195: 1, 1196: 1, 1197: 1, 1198: 1, 1199: 1, 1200: 1, 1201: 1, 1202: 1, 1203: 1, 1204: 1, 1205: 1, 1206: 1, 1207: 1, 1208: 1, 1209: 1, 1210: 1, 1211: 1, 1212: 1, 1213: 1, 1214: 1, 1215: 1, 1216: 1, 1217: 1, 1218: 1, 1219: 1, 1220: 1, 1221: 1, 1222: 1, 1223: 1, 1224: 1, 1225: 1, 1226: 1, 1227: 1, 1228: 1, 1229: 1, 1230: 1, 1231: 1, 1232: 1, 1233: 1, 1234: 1, 1235: 1, 1236: 1, 1237: 1, 1238: 1, 1239: 1, 1240: 1, 1241: 1, 1242: 1, 1243: 1, 1244: 1, 1245: 1, 1246: 1, 1247: 1, 1248: 1, 1249: 1, 1250: 1, 1251: 1, 1252: 1, 1253: 1, 1254: 1, 1255: 1, 1256: 1, 1257: 1, 1258: 1, 1259: 1, 1260: 1, 1261: 1, 1262: 1, 1263: 1, 1264: 1, 1265: 1, 1266: 1, 1267: 1, 1268: 1, 1269: 1, 1270: 1, 1271: 1, 1272: 1, 1273: 1, 1274: 1, 1275: 1, 1276: 1, 1277: 1, 1278: 1, 1279: 1, 1280: 1, 1281: 1, 1282: 1, 1283: 1, 1284: 1, 1285: 1, 1286: 1, 1287: 1, 1288: 1, 1289: 1, 1290: 1, 1291: 1, 1292: 1, 1293: 1, 1294: 1, 1295: 1, 1296: 1, 1297: 1, 1298: 1, 1299: 1, 1300: 1, 1301: 1, 1302: 1, 1303: 1, 1304: 1, 1305: 1, 1306: 1, 1307: 1, 1308: 1, 1309: 1, 1310: 1, 1311: 1, 1312: 1, 1313: 1, 1314: 1, 1315: 1, 1316: 1, 1317: 1, 1318: 1, 1319: 1, 1320: 1, 1321: 1, 1322: 1, 1323: 1, 1324: 1, 1325: 1, 1326: 1, 1327: 1, 1328: 1, 1329: 1, 1330: 1, 1331: 1, 1332: 1, 1333: 1, 1334: 1, 1335: 1, 1336: 1, 1337: 1, 1338: 1, 1339: 1, 1340: 1, 1341: 1, 1342: 1, 1343: 1, 1344: 1, 1345: 1, 1346: 1, 1347: 1, 1348: 1, 1349: 1, 1350: 1, 1351: 1, 1352: 1, 1353: 1, 1354: 1, 1355: 1, 1356: 1, 1357: 1, 1358: 1, 1359: 1, 1360: 1, 1361: 1, 1362: 1, 1363: 1, 1364: 1, 1365: 1, 1366: 1, 1367: 1, 1368: 1, 1369: 1, 1370: 1, 1371: 1, 1372: 1, 1373: 1, 1374: 1, 1375: 1, 1376: 1, 1377: 1, 1378: 1, 1379: 1, 1380: 1, 1381: 1, 1382: 1, 1383: 1, 1384: 1, 1385: 1, 1386: 1, 1387: 1, 1388: 1, 1389: 1, 1390: 1, 1391: 1, 1392: 1, 1393: 1, 1394: 1, 1395: 1, 1396: 1, 1397: 1, 1398: 1, 1399: 1, 1400: 1, 1401: 1, 1402: 1, 1403: 1, 1404: 1, 1405: 1, 1406: 1, 1407: 1, 1408: 1, 1409: 1, 1410: 1, 1411: 1, 1412: 1, 1413: 1, 1414: 1, 1415: 1, 1416: 1, 1417: 1, 1418: 1, 1419: 1, 1420: 1, 1421: 1, 1422: 1, 1423: 1, 1424: 1, 1425: 1, 1426: 1, 1427: 1, 1428: 1, 1429: 1, 1430: 1, 1431: 1, 1432: 1, 1433: 1, 1434: 1, 1435: 1, 1436: 1, 1437: 1, 1438: 1, 1439: 1, 1440: 1, 1441: 1, 1442: 1, 1443: 1, 1444: 1, 1445: 1, 1446: 1, 1447: 1, 1448: 1, 1449: 1, 1450: 1, 1451: 1, 1452: 1, 1453: 1, 1454: 1, 1455: 1, 1456: 1, 1457: 1, 1458: 1, 1459: 1, 1460: 1, 1461: 1, 1462: 1, 1463: 1, 1464: 1, 1465: 1, 1466: 1, 1467: 1, 1468: 1, 1469: 1, 1470: 1, 1471: 1, 1472: 1, 1473: 1, 1474: 1, 1475: 1, 1476: 1, 1477: 1, 1478: 1, 1479: 1, 1480: 1, 1481: 1, 1482: 1, 1483: 1, 1484: 1, 1485: 1, 1486: 1, 1487: 1, 1488: 1, 1489: 1, 1490: 1, 1491: 1, 1492: 1, 1493: 1, 1494: 1, 1495: 1, 1496: 1, 1497: 1, 1498: 1, 1499: 1, 1500: 1, 1501: 1, 1502: 1, 1503: 1, 1504: 1, 1505: 1, 1506: 1, 1507: 1, 1508: 1, 1509: 1, 1510: 1, 1511: 1, 1512: 1, 1513: 1, 1514: 1, 1515: 1, 1516: 1, 1517: 1, 1518: 1, 1519: 1, 1520: 1, 1521: 1, 1522: 1, 1523: 1, 1524: 1, 1525: 1, 1526: 1, 1527: 1, 1528: 1, 1529: 1, 1530: 1, 1531: 1, 1532: 1, 1533: 1, 1534: 1, 1535: 1, 1536: 1, 1537: 1, 1538: 1, 1539: 1, 1540: 1, 1541: 1, 1542: 1, 1543: 1, 1544: 1, 1545: 1, 1546: 1, 1547: 1, 1548: 1, 1549: 1, 1550: 1, 1551: 1, 1552: 1, 1553: 1, 1554: 1, 1555: 1, 1556: 1, 1557: 1, 1558: 1, 1559: 1, 1560: 1, 1561: 1, 1562: 1, 1563: 1, 1564: 1, 1565: 1, 1566: 1, 1567: 1, 1568: 1, 1569: 1, 1570: 1, 1571: 1, 1572: 1, 1573: 1, 1574: 1, 1575: 1, 1576: 1, 1577: 1, 1578: 1, 1579: 1, 1580: 1, 1581: 1, 1582: 1, 1583: 1, 1584: 1, 1585: 1, 1586: 1, 1587: 1, 1588: 1, 1589: 1, 1590: 1, 1591: 1, 1592: 1, 1593: 1, 1594: 1, 1595: 1, 1596: 1, 1597: 1, 1598: 1, 1599: 1, 1600: 1, 1601: 1, 1602: 1, 1603: 1, 1604: 1, 1605: 1, 1606: 1, 1607: 1, 1608: 1, 1609: 1, 1610: 1, 1611: 1, 1612: 1, 1613: 1, 1614: 1, 1615: 1, 1616: 1, 1617: 1, 1618: 1, 1619: 1, 1620: 1, 1621: 1, 1622: 1, 1623: 1, 1624: 1, 1625: 1, 1626: 1, 1627: 1, 1628: 1, 1629: 1, 1630: 1, 1631: 1, 1632: 1, 1633: 1, 1634: 1, 1635: 1, 1636: 1, 1637: 1, 1638: 1, 1639: 1, 1640: 1, 1641: 1, 1642: 1, 1643: 1, 1644: 1, 1645: 1, 1646: 1, 1647: 1, 1648: 1, 1649: 1, 1650: 1, 1651: 1, 1652: 1, 1653: 1, 1654: 1, 1655: 1, 1656: 1, 1657: 1, 1658: 1, 1659: 1, 1660: 1, 1661: 1, 1662: 1, 1663: 1, 1664: 1, 1665: 1, 1666: 1, 1667: 1, 1668: 1, 1669: 1, 1670: 1, 1671: 1, 1672: 1, 1673: 1, 1674: 1, 1675: 1, 1676: 1, 1677: 1, 1678: 1, 1679: 1, 1680: 1, 1681: 1, 1682: 1, 1683: 1, 1684: 1, 1685: 1, 1686: 1, 1687: 1, 1688: 1, 1689: 1, 1690: 1, 1691: 1, 1692: 1, 1693: 1, 1694: 1, 1695: 1, 1696: 1, 1697: 1, 1698: 1, 1699: 1, 1700: 1, 1701: 1, 1702: 1, 1703: 1, 1704: 1, 1705: 1, 1706: 1, 1707: 1, 1708: 1, 1709: 1, 1710: 1, 1711: 1, 1712: 1, 1713: 1, 1714: 1, 1715: 1, 1716: 1, 1717: 1, 1718: 1, 1719: 1, 1720: 1, 1721: 1, 1722: 1, 1723: 1, 1724: 1, 1725: 1, 1726: 1, 1727: 1, 1728: 1, 1729: 1, 1730: 1, 1731: 1, 1732: 1, 1733: 1, 1734: 1, 1735: 1, 1736: 1, 1737: 1, 1738: 1, 1739: 1, 1740: 1, 1741: 1, 1742: 1, 1743: 1, 1744: 1, 1745: 1, 1746: 1, 1747: 1, 1748: 1, 1749: 1, 1750: 1, 1751: 1, 1752: 1, 1753: 1, 1754: 1, 1755: 1, 1756: 1, 1757: 1, 1758: 1, 1759: 1, 1760: 1, 1761: 1, 1762: 1, 1763: 1, 1764: 1, 1765: 1, 1766: 1, 1767: 1, 1768: 1, 1769: 1, 1770: 1, 1771: 1, 1772: 1, 1773: 1, 1774: 1, 1775: 1, 1776: 1, 1777: 1, 1778: 1, 1779: 1, 1780: 1, 1781: 1, 1782: 1, 1783: 1, 1784: 1, 1785: 1, 1786: 1, 1787: 1, 1788: 1, 1789: 1, 1790: 1, 1791: 1, 1792: 1, 1793: 1, 1794: 1, 1795: 1, 1796: 1, 1797: 1, 1798: 1, 1799: 1, 1800: 1, 1801: 1, 1802: 1, 1803: 1, 1804: 1, 1805: 1, 1806: 1, 1807: 1, 1808: 1, 1809: 1, 1810: 1, 1811: 1, 1812: 1, 1813: 1, 1814: 1, 1815: 1, 1816: 1, 1817: 1, 1818: 1, 1819: 1, 1820: 1, 1821: 1, 1822: 1, 1823: 1, 1824: 1, 1825: 1, 1826: 1, 1827: 1, 1828: 1, 1829: 1, 1830: 1, 1831: 1, 1832: 1, 1833: 1, 1834: 1, 1835: 1, 1836: 1, 1837: 1, 1838: 1, 1839: 1, 1840: 1, 1841: 1, 1842: 1, 1843: 1, 1844: 1, 1845: 1, 1846: 1, 1847: 1, 1848: 1, 1849: 1, 1850: 1, 1851: 1, 1852: 1, 1853: 1, 1854: 1, 1855: 1, 1856: 1, 1857: 1, 1858: 1, 1859: 1, 1860: 1, 1861: 1, 1862: 1, 1863: 1, 1864: 1, 1865: 1, 1866: 1, 1867: 1, 1868: 1, 1869: 1, 1870: 1, 1871: 1, 1872: 1, 1873: 1, 1874: 1, 1875: 1, 1876: 1, 1877: 1, 1878: 1, 1879: 1, 1880: 1, 1881: 1, 1882: 1, 1883: 1, 1884: 1, 1885: 1, 1886: 1, 1887: 1, 1888: 1, 1889: 1, 1890: 1, 1891: 1, 1892: 1, 1893: 1, 1894: 1, 1895: 1, 1896: 1, 1897: 1, 1898: 1, 1899: 1, 1900: 1, 1901: 1, 1902: 1, 1903: 1, 1904: 1, 1905: 1, 1906: 1, 1907: 1, 1908: 1, 1909: 1, 1910: 1, 1911: 1, 1912: 1, 1913: 1, 1914: 1, 1915: 1, 1916: 1, 1917: 1, 1918: 1, 1919: 1, 1920: 1, 1921: 1, 1922: 1, 1923: 1, 1924: 1, 1925: 1, 1926: 1, 1927: 1, 1928: 1, 1929: 1, 1930: 1, 1931: 1, 1932: 1, 1933: 1, 1934: 1, 1935: 1, 1936: 1, 1937: 1, 1938: 1, 1939: 1, 1940: 1, 1941: 1, 1942: 1, 1943: 1, 1944: 1, 1945: 1, 1946: 1, 1947: 1, 1948: 1, 1949: 1, 1950: 1, 1951: 1, 1952: 1, 1953: 1, 1954: 1, 1955: 1, 1956: 1, 1957: 1, 1958: 1, 1959: 1, 1960: 1, 1961: 1, 1962: 1, 1963: 1, 1964: 1, 1965: 1, 1966: 1, 1967: 1, 1968: 1, 1969: 1, 1970: 1, 1971: 1, 1972: 1, 1973: 1, 1974: 1, 1975: 1, 1976: 1, 1977: 1, 1978: 1, 1979: 1, 1980: 1, 1981: 1, 1982: 1, 1983: 1, 1984: 1, 1985: 1, 1986: 1, 1987: 1, 1988: 1, 1989: 1, 1990: 1, 1991: 1, 1992: 1, 1993: 1, 1994: 1, 1995: 1, 1996: 1, 1997: 1, 1998: 1, 1999: 1, 2000: 1, 2001: 1, 2002: 1, 2003: 1, 2004: 1, 2005: 1, 2006: 1, 2007: 1, 2008: 1, 2009: 1, 2010: 1, 2011: 1, 2012: 1, 2013: 1, 2014: 1, 2015: 1, 2016: 1, 2017: 1, 2018: 1, 2019: 1, 2020: 1, 2021: 1, 2022: 1, 2023: 1, 2024: 1, 2025: 1, 2026: 1, 2027: 1, 2028: 1, 2029: 1, 2030: 1, 2031: 1, 2032: 1, 2033: 1, 2034: 1, 2035: 1, 2036: 1, 2037: 1, 2038: 1, 2039: 1, 2040: 1, 2041: 1, 2042: 1, 2043: 1, 2044: 1, 2045: 1, 2046: 1, 2047: 1, 2048: 1, 2049: 1, 2050: 1, 2051: 1, 2052: 1, 2053: 1, 2054: 1, 2055: 1, 2056: 1, 2057: 1, 2058: 1, 2059: 1, 2060: 1, 2061: 1, 2062: 1, 2063: 1, 2064: 1, 2065: 1, 2066: 1, 2067: 1, 2068: 1, 2069: 1, 2070: 1, 2071: 1, 2072: 1, 2073: 1, 2074: 1, 2075: 1, 2076: 1, 2077: 1, 2078: 1, 2079: 1, 2080: 1, 2081: 1, 2082: 1, 2083: 1, 2084: 1, 2085: 1, 2086: 1, 2087: 1, 2088: 1, 2089: 1, 2090: 1, 2091: 1, 2092: 1, 2093: 1, 2094: 1, 2095: 1, 2096: 1, 2097: 1, 2098: 1, 2099: 1, 2100: 1, 2101: 1, 2102: 1, 2103: 1, 2104: 1, 2105: 1, 2106: 1, 2107: 1, 2108: 1, 2109: 1, 2110: 1, 2111: 1, 2112: 1, 2113: 1, 2114: 1, 2115: 1, 2116: 1, 2117: 1, 2118: 1, 2119: 1, 2120: 1, 2121: 1, 2122: 1, 2123: 1, 2124: 1, 2125: 1, 2126: 1, 2127: 1, 2128: 1, 2129: 1, 2130: 1, 2131: 1, 2132: 1, 2133: 1, 2134: 1, 2135: 1, 2136: 1, 2137: 1, 2138: 1, 2139: 1, 2140: 1, 2141: 1, 2142: 1, 2143: 1, 2144: 1, 2145: 1, 2146: 1, 2147: 1, 2148: 1, 2149: 1, 2150: 1, 2151: 1, 2152: 1, 2153: 1, 2154: 1, 2155: 1, 2156: 1, 2157: 1, 2158: 1, 2159: 1, 2160: 1, 2161: 1, 2162: 1, 2163: 1, 2164: 1, 2165: 1, 2166: 1, 2167: 1, 2168: 1, 2169: 1, 2170: 1, 2171: 1, 2172: 1, 2173: 1, 2174: 1, 2175: 1, 2176: 1, 2177: 1, 2178: 1, 2179: 1, 2180: 1, 2181: 1, 2182: 1, 2183: 1, 2184: 1, 2185: 1, 2186: 1, 2187: 1})\n"
     ]
    },
    {
     "data": {
      "image/png": "[encoded data removed]",
      "text/plain": [
       "<matplotlib.figure.Figure at 0x7f5391f74080>"
      ]
     },
     "metadata": {},
     "output_type": "display_data"
    }
   ],
   "source": [
    "plt.figure(figsize=(25,10))\n",
    "counter=collections.Counter(labels)\n",
    "print(counter)\n",
    "bins = np.arange(min(labels),max(labels))\n",
    "plt.hist(labels, edgecolor=\"white\", bins=bins, linewidth=1.5, alpha=0.8)\n",
    "if len(bins) > 25:\n",
    "    rotation=\"vertical\"\n",
    "else:\n",
    "    rotation=\"horizontal\"\n",
    "plt.xticks(np.round(bins,0), rotation=rotation)\n",
    "plt.show()"
   ]
  },
  {
   "cell_type": "code",
   "execution_count": 92,
   "metadata": {
    "collapsed": false,
    "deletable": true,
    "editable": true
   },
   "outputs": [
    {
     "name": "stdout",
     "output_type": "stream",
     "text": [
      "Cluster 333 is the largest cluster with 1268 elements\n",
      "Length of vectFiltered is  2235 vs idFiltered 2235\n",
      "We retain the elements of the largest cluster  1268\n"
     ]
    }
   ],
   "source": [
    "value, count = counter.most_common(1)[0]\n",
    "print(\"Cluster {0} is the largest cluster with {1} elements\".format(value,count))\n",
    "vectFiltered = []\n",
    "idFiltered   = []\n",
    "idLargest    = []\n",
    "for i in range(len(labels)):\n",
    "    if labels[i] != value:\n",
    "        vectFiltered.append(vecs[i])\n",
    "        idFiltered.append(idOriginal[i])\n",
    "    else:\n",
    "        idLargest.append(idOriginal[i])\n",
    "print(\"Length of vectFiltered is \", len(vectFiltered), \"vs idFiltered\", len(idFiltered))\n",
    "print(\"We retain the elements of the largest cluster \", len(idLargest))"
   ]
  },
  {
   "cell_type": "code",
   "execution_count": 93,
   "metadata": {
    "collapsed": false,
    "deletable": true,
    "editable": true
   },
   "outputs": [
    {
     "data": {
      "image/png": "[encoded data removed]",
      "text/plain": [
       "<matplotlib.figure.Figure at 0x7f538d977b70>"
      ]
     },
     "metadata": {},
     "output_type": "display_data"
    },
    {
     "name": "stdout",
     "output_type": "stream",
     "text": [
      "The filtered sample has size 2235 2235\n"
     ]
    }
   ],
   "source": [
    "distMatrixF = [ [0.0 for i in range(len(vectFiltered))] for j in range(len(vectFiltered))]\n",
    "ddF = cdist(vectFiltered, vectFiltered)\n",
    "distArrayF = ssd.squareform(np.asmatrix(ddF), checks = False)\n",
    "plt.hist(distArrayF, edgecolor=\"white\")\n",
    "plt.title(\"Distribution of distances in the Filtered Sample\")\n",
    "plt.show()\n",
    "print(\"The filtered sample has size\", len(vectFiltered), len(idFiltered))"
   ]
  },
  {
   "cell_type": "code",
   "execution_count": 94,
   "metadata": {
    "collapsed": false,
    "deletable": true,
    "editable": true
   },
   "outputs": [
    {
     "name": "stdout",
     "output_type": "stream",
     "text": [
      "[ ward      ] Cophenetic =  0.41\n",
      "[ median    ] Cophenetic =  0.28\n",
      "[ average   ] Cophenetic =  0.83\n",
      "[ single    ] Cophenetic =  0.80\n",
      "[ complete  ] Cophenetic =  0.41\n"
     ]
    }
   ],
   "source": [
    "methods = [\"ward\", \"median\", \"average\", \"single\", \"complete\"]\n",
    "bestVal = 0.0\n",
    "bestMethod = \" \"\n",
    "for mm in methods:\n",
    "    ZF = linkage(distArrayF, method=mm)\n",
    "    c, cophDist = cophenet(ZF, distArrayF)\n",
    "    print(\"[ {0:10s}] Cophenetic = {1:5.2f}\".format(mm,c))\n",
    "    if c > bestVal:\n",
    "        bestVal = c\n",
    "        bestMethod = mm\n",
    "        \n",
    "ZF = linkage(distArrayF, method=bestMethod)"
   ]
  },
  {
   "cell_type": "code",
   "execution_count": 95,
   "metadata": {
    "collapsed": false,
    "deletable": true,
    "editable": true
   },
   "outputs": [
    {
     "data": {
      "image/png": "[encoded data removed]",
      "text/plain": [
       "<matplotlib.figure.Figure at 0x7f539a70db38>"
      ]
     },
     "metadata": {},
     "output_type": "display_data"
    }
   ],
   "source": [
    "plt.figure(figsize=(25,10))\n",
    "plt.title(\"Hierarchical Clustering Users - Filtered Dataset\")\n",
    "pp= dendrogram(\n",
    "    ZF,\n",
    "    leaf_rotation=90,\n",
    "    leaf_font_size=8.,\n",
    "    show_leaf_counts=True,\n",
    "    get_leaves=True,\n",
    "    truncate_mode=\"level\",\n",
    "    p = 10\n",
    ")\n",
    "plt.show()"
   ]
  },
  {
   "cell_type": "code",
   "execution_count": 96,
   "metadata": {
    "collapsed": false,
    "deletable": true,
    "editable": true
   },
   "outputs": [
    {
     "name": "stdout",
     "output_type": "stream",
     "text": [
      "Counter({701: 622, 260: 143, 695: 36, 642: 22, 697: 22, 667: 20, 582: 19, 266: 16, 590: 15, 474: 14, 618: 14, 678: 12, 689: 12, 569: 11, 687: 11, 158: 10, 510: 10, 663: 10, 693: 10, 232: 9, 538: 9, 694: 9, 500: 8, 604: 8, 630: 8, 634: 8, 200: 7, 220: 7, 530: 7, 537: 7, 557: 7, 614: 7, 656: 7, 675: 7, 681: 7, 691: 7, 475: 6, 492: 6, 544: 6, 573: 6, 602: 6, 651: 6, 673: 6, 699: 6, 159: 5, 179: 5, 217: 5, 229: 5, 414: 5, 491: 5, 600: 5, 610: 5, 625: 5, 631: 5, 647: 5, 670: 5, 68: 4, 127: 4, 186: 4, 235: 4, 250: 4, 256: 4, 369: 4, 503: 4, 546: 4, 566: 4, 633: 4, 654: 4, 660: 4, 674: 4, 682: 4, 685: 4, 686: 4, 692: 4, 698: 4, 700: 4, 715: 4, 171: 3, 172: 3, 252: 3, 254: 3, 259: 3, 264: 3, 269: 3, 412: 3, 426: 3, 459: 3, 471: 3, 476: 3, 486: 3, 501: 3, 504: 3, 523: 3, 553: 3, 581: 3, 586: 3, 609: 3, 622: 3, 624: 3, 626: 3, 640: 3, 650: 3, 655: 3, 677: 3, 683: 3, 684: 3, 92: 2, 100: 2, 118: 2, 119: 2, 122: 2, 126: 2, 144: 2, 150: 2, 157: 2, 177: 2, 178: 2, 180: 2, 185: 2, 211: 2, 215: 2, 223: 2, 231: 2, 243: 2, 246: 2, 257: 2, 263: 2, 268: 2, 298: 2, 311: 2, 353: 2, 365: 2, 367: 2, 368: 2, 379: 2, 387: 2, 393: 2, 397: 2, 410: 2, 425: 2, 428: 2, 458: 2, 461: 2, 463: 2, 488: 2, 489: 2, 494: 2, 496: 2, 517: 2, 520: 2, 529: 2, 549: 2, 556: 2, 564: 2, 584: 2, 592: 2, 597: 2, 601: 2, 607: 2, 615: 2, 617: 2, 620: 2, 628: 2, 635: 2, 637: 2, 649: 2, 652: 2, 657: 2, 665: 2, 666: 2, 672: 2, 680: 2, 688: 2, 690: 2, 705: 2, 706: 2, 714: 2, 730: 2, 766: 2, 0: 1, 1: 1, 2: 1, 3: 1, 4: 1, 5: 1, 6: 1, 7: 1, 8: 1, 9: 1, 10: 1, 11: 1, 12: 1, 13: 1, 14: 1, 15: 1, 16: 1, 17: 1, 18: 1, 19: 1, 20: 1, 21: 1, 22: 1, 23: 1, 24: 1, 25: 1, 26: 1, 27: 1, 28: 1, 29: 1, 30: 1, 31: 1, 32: 1, 33: 1, 34: 1, 35: 1, 36: 1, 37: 1, 38: 1, 39: 1, 40: 1, 41: 1, 42: 1, 43: 1, 44: 1, 45: 1, 46: 1, 47: 1, 48: 1, 49: 1, 50: 1, 51: 1, 52: 1, 53: 1, 54: 1, 55: 1, 56: 1, 57: 1, 58: 1, 59: 1, 60: 1, 61: 1, 62: 1, 63: 1, 64: 1, 65: 1, 66: 1, 67: 1, 69: 1, 70: 1, 71: 1, 72: 1, 73: 1, 74: 1, 75: 1, 76: 1, 77: 1, 78: 1, 79: 1, 80: 1, 81: 1, 82: 1, 83: 1, 84: 1, 85: 1, 86: 1, 87: 1, 88: 1, 89: 1, 90: 1, 91: 1, 93: 1, 94: 1, 95: 1, 96: 1, 97: 1, 98: 1, 99: 1, 101: 1, 102: 1, 103: 1, 104: 1, 105: 1, 106: 1, 107: 1, 108: 1, 109: 1, 110: 1, 111: 1, 112: 1, 113: 1, 114: 1, 115: 1, 116: 1, 117: 1, 120: 1, 121: 1, 123: 1, 124: 1, 125: 1, 128: 1, 129: 1, 130: 1, 131: 1, 132: 1, 133: 1, 134: 1, 135: 1, 136: 1, 137: 1, 138: 1, 139: 1, 140: 1, 141: 1, 142: 1, 143: 1, 145: 1, 146: 1, 147: 1, 148: 1, 149: 1, 151: 1, 152: 1, 153: 1, 154: 1, 155: 1, 156: 1, 160: 1, 161: 1, 162: 1, 163: 1, 164: 1, 165: 1, 166: 1, 167: 1, 168: 1, 169: 1, 170: 1, 173: 1, 174: 1, 175: 1, 176: 1, 181: 1, 182: 1, 183: 1, 184: 1, 187: 1, 188: 1, 189: 1, 190: 1, 191: 1, 192: 1, 193: 1, 194: 1, 195: 1, 196: 1, 197: 1, 198: 1, 199: 1, 201: 1, 202: 1, 203: 1, 204: 1, 205: 1, 206: 1, 207: 1, 208: 1, 209: 1, 210: 1, 212: 1, 213: 1, 214: 1, 216: 1, 218: 1, 219: 1, 221: 1, 222: 1, 224: 1, 225: 1, 226: 1, 227: 1, 228: 1, 230: 1, 233: 1, 234: 1, 236: 1, 237: 1, 238: 1, 239: 1, 240: 1, 241: 1, 242: 1, 244: 1, 245: 1, 247: 1, 248: 1, 249: 1, 251: 1, 253: 1, 255: 1, 258: 1, 261: 1, 262: 1, 265: 1, 267: 1, 270: 1, 271: 1, 272: 1, 273: 1, 274: 1, 275: 1, 276: 1, 277: 1, 278: 1, 279: 1, 280: 1, 281: 1, 282: 1, 283: 1, 284: 1, 285: 1, 286: 1, 287: 1, 288: 1, 289: 1, 290: 1, 291: 1, 292: 1, 293: 1, 294: 1, 295: 1, 296: 1, 297: 1, 299: 1, 300: 1, 301: 1, 302: 1, 303: 1, 304: 1, 305: 1, 306: 1, 307: 1, 308: 1, 309: 1, 310: 1, 312: 1, 313: 1, 314: 1, 315: 1, 316: 1, 317: 1, 318: 1, 319: 1, 320: 1, 321: 1, 322: 1, 323: 1, 324: 1, 325: 1, 326: 1, 327: 1, 328: 1, 329: 1, 330: 1, 331: 1, 332: 1, 333: 1, 334: 1, 335: 1, 336: 1, 337: 1, 338: 1, 339: 1, 340: 1, 341: 1, 342: 1, 343: 1, 344: 1, 345: 1, 346: 1, 347: 1, 348: 1, 349: 1, 350: 1, 351: 1, 352: 1, 354: 1, 355: 1, 356: 1, 357: 1, 358: 1, 359: 1, 360: 1, 361: 1, 362: 1, 363: 1, 364: 1, 366: 1, 370: 1, 371: 1, 372: 1, 373: 1, 374: 1, 375: 1, 376: 1, 377: 1, 378: 1, 380: 1, 381: 1, 382: 1, 383: 1, 384: 1, 385: 1, 386: 1, 388: 1, 389: 1, 390: 1, 391: 1, 392: 1, 394: 1, 395: 1, 396: 1, 398: 1, 399: 1, 400: 1, 401: 1, 402: 1, 403: 1, 404: 1, 405: 1, 406: 1, 407: 1, 408: 1, 409: 1, 411: 1, 413: 1, 415: 1, 416: 1, 417: 1, 418: 1, 419: 1, 420: 1, 421: 1, 422: 1, 423: 1, 424: 1, 427: 1, 429: 1, 430: 1, 431: 1, 432: 1, 433: 1, 434: 1, 435: 1, 436: 1, 437: 1, 438: 1, 439: 1, 440: 1, 441: 1, 442: 1, 443: 1, 444: 1, 445: 1, 446: 1, 447: 1, 448: 1, 449: 1, 450: 1, 451: 1, 452: 1, 453: 1, 454: 1, 455: 1, 456: 1, 457: 1, 460: 1, 462: 1, 464: 1, 465: 1, 466: 1, 467: 1, 468: 1, 469: 1, 470: 1, 472: 1, 473: 1, 477: 1, 478: 1, 479: 1, 480: 1, 481: 1, 482: 1, 483: 1, 484: 1, 485: 1, 487: 1, 490: 1, 493: 1, 495: 1, 497: 1, 498: 1, 499: 1, 502: 1, 505: 1, 506: 1, 507: 1, 508: 1, 509: 1, 511: 1, 512: 1, 513: 1, 514: 1, 515: 1, 516: 1, 518: 1, 519: 1, 521: 1, 522: 1, 524: 1, 525: 1, 526: 1, 527: 1, 528: 1, 531: 1, 532: 1, 533: 1, 534: 1, 535: 1, 536: 1, 539: 1, 540: 1, 541: 1, 542: 1, 543: 1, 545: 1, 547: 1, 548: 1, 550: 1, 551: 1, 552: 1, 554: 1, 555: 1, 558: 1, 559: 1, 560: 1, 561: 1, 562: 1, 563: 1, 565: 1, 567: 1, 568: 1, 570: 1, 571: 1, 572: 1, 574: 1, 575: 1, 576: 1, 577: 1, 578: 1, 579: 1, 580: 1, 583: 1, 585: 1, 587: 1, 588: 1, 589: 1, 591: 1, 593: 1, 594: 1, 595: 1, 596: 1, 598: 1, 599: 1, 603: 1, 605: 1, 606: 1, 608: 1, 611: 1, 612: 1, 613: 1, 616: 1, 619: 1, 621: 1, 623: 1, 627: 1, 629: 1, 632: 1, 636: 1, 638: 1, 639: 1, 641: 1, 643: 1, 644: 1, 645: 1, 646: 1, 648: 1, 653: 1, 658: 1, 659: 1, 661: 1, 662: 1, 664: 1, 668: 1, 669: 1, 671: 1, 676: 1, 679: 1, 696: 1, 702: 1, 703: 1, 704: 1, 707: 1, 708: 1, 709: 1, 710: 1, 711: 1, 712: 1, 713: 1, 716: 1, 717: 1, 718: 1, 719: 1, 720: 1, 721: 1, 722: 1, 723: 1, 724: 1, 725: 1, 726: 1, 727: 1, 728: 1, 729: 1, 731: 1, 732: 1, 733: 1, 734: 1, 735: 1, 736: 1, 737: 1, 738: 1, 739: 1, 740: 1, 741: 1, 742: 1, 743: 1, 744: 1, 745: 1, 746: 1, 747: 1, 748: 1, 749: 1, 750: 1, 751: 1, 752: 1, 753: 1, 754: 1, 755: 1, 756: 1, 757: 1, 758: 1, 759: 1, 760: 1, 761: 1, 762: 1, 763: 1, 764: 1, 765: 1, 767: 1, 768: 1, 769: 1, 770: 1, 771: 1, 772: 1, 773: 1, 774: 1, 775: 1, 776: 1, 777: 1, 778: 1, 779: 1, 780: 1, 781: 1, 782: 1, 783: 1, 784: 1, 785: 1, 786: 1, 787: 1, 788: 1, 789: 1, 790: 1, 791: 1, 792: 1, 793: 1, 794: 1, 795: 1, 796: 1, 797: 1, 798: 1, 799: 1, 800: 1, 801: 1, 802: 1, 803: 1, 804: 1, 805: 1, 806: 1, 807: 1, 808: 1, 809: 1, 810: 1, 811: 1, 812: 1, 813: 1, 814: 1, 815: 1, 816: 1, 817: 1, 818: 1, 819: 1, 820: 1, 821: 1, 822: 1, 823: 1, 824: 1, 825: 1, 826: 1, 827: 1, 828: 1, 829: 1, 830: 1})\n"
     ]
    },
    {
     "data": {
      "image/png": "[encoded data removed]",
      "text/plain": [
       "<matplotlib.figure.Figure at 0x7f5390b746d8>"
      ]
     },
     "metadata": {},
     "output_type": "display_data"
    }
   ],
   "source": [
    "plt.figure(figsize=(25,10))\n",
    "maxD = 1.2\n",
    "labelsF = fcluster(ZF, maxD, criterion=\"distance\")\n",
    "labelsF = labelsF - [1]*len(labelsF)\n",
    "counter=collections.Counter(labelsF)\n",
    "print(counter)\n",
    "bins = np.arange(min(labelsF),max(labelsF))\n",
    "plt.hist(labelsF, edgecolor=\"white\", bins=bins, linewidth=1.5, alpha=0.8)\n",
    "if len(bins) > 25:\n",
    "    rotation=\"vertical\"\n",
    "else:\n",
    "    rotation=\"horizontal\"\n",
    "plt.xticks(np.round(bins,0), rotation=rotation)\n",
    "plt.show()"
   ]
  },
  {
   "cell_type": "code",
   "execution_count": null,
   "metadata": {
    "collapsed": true,
    "deletable": true,
    "editable": true
   },
   "outputs": [],
   "source": [
    "min_cluster_size = 4\n",
    "k = 0\n",
    "fullLabels = []\n",
    "for i in idOriginal:\n",
    "    if idFiltered[k] == i:\n",
    "        print(\"item \", i, \"found. Its cluster, i.e., \", labelsF[k], \"has size \", counter[labelsF[k]])\n",
    "        if counter[labelsF[k]] >= min_cluster_size:\n",
    "            fullLabels.append(labelsF[k])            \n",
    "        else:\n",
    "            fullLabels.append(-1)\n",
    "        if k < len(labelsF)-1:\n",
    "            k += 1\n",
    "    elif i in idLargest:\n",
    "        fullLabels.append(0) # assign to cluster 0 members of largest cluster\n",
    "    else:\n",
    "        fullLabels.append(-1)\n",
    "    print(\"now k is \", k, \"vs len=\", len(labelsF), \" and full = \", len(fullLabels))\n",
    "        \n",
    "print(\"Length of fullLabels is \", len(fullLabels))   \n",
    "for i, f in zip(fullLabels, idOriginal):\n",
    "    print(f, \" with label\", i)"
   ]
  },
  {
   "cell_type": "code",
   "execution_count": 102,
   "metadata": {
    "collapsed": false,
    "deletable": true,
    "editable": true
   },
   "outputs": [
    {
     "name": "stdout",
     "output_type": "stream",
     "text": [
      "                                         Description  \\\n",
      "0  Jack of all trades, master of none | [SARCASM ...   \n",
      "1  Professional Trainer,  Business & Life Coach, ...   \n",
      "2  Sail fast, Live slow. Father. Geek, DIY evange...   \n",
      "3  Padre. Money manager. Fu BimboAlieno. Economia...   \n",
      "4  In @ReteDisarmo cercando nonviolenza. Il megli...   \n",
      "\n",
      "                                            Keywords  filtered  id  labels  \n",
      "0                     [of, trades, master, of, none]        -1   2      92  \n",
      "1                     [consultant, are, endorsement]         0   4     333  \n",
      "2  [fast, slow, evangelist, inside, fan, student,...       701   6     537  \n",
      "3                       [manager, collaboro, gruppo]       260  11     571  \n",
      "4  [cercando, nonviolenza, meglio, moglie, figlie...       701  13     880  \n"
     ]
    }
   ],
   "source": [
    "df = pd.DataFrame({\n",
    "    \"id\" : idOriginal,\n",
    "    \"Description\" : corpus,\n",
    "    \"Keywords\" : docs,\n",
    "    \"labels\": labels,\n",
    "    \"filtered\": fullLabels\n",
    "})\n",
    "print(df.head())\n",
    "df.to_csv(\"data/clustersHierarchicalExcludeLargest.csv\")"
   ]
  },
  {
   "cell_type": "markdown",
   "metadata": {
    "deletable": true,
    "editable": true
   },
   "source": [
    "Summary: Clusters size"
   ]
  },
  {
   "cell_type": "code",
   "execution_count": 108,
   "metadata": {
    "collapsed": false,
    "deletable": true,
    "editable": true
   },
   "outputs": [
    {
     "name": "stdout",
     "output_type": "stream",
     "text": [
      "Counter({0: 1268, -1: 885, 701: 622, 260: 143, 695: 36, 642: 22, 697: 22, 667: 20, 582: 19, 266: 16, 590: 15, 474: 14, 618: 14, 678: 12, 689: 12, 687: 11, 569: 11, 663: 10, 158: 10, 693: 10, 510: 10, 538: 9, 694: 9, 232: 9, 604: 8, 500: 8, 630: 8, 634: 8, 656: 7, 530: 7, 537: 7, 675: 7, 220: 7, 557: 7, 691: 7, 200: 7, 614: 7, 681: 7, 544: 6, 673: 6, 699: 6, 573: 6, 651: 6, 602: 6, 475: 6, 492: 6, 491: 5, 179: 5, 647: 5, 670: 5, 414: 5, 159: 5, 600: 5, 217: 5, 610: 5, 229: 5, 625: 5, 631: 5, 256: 4, 654: 4, 685: 4, 660: 4, 674: 4, 369: 4, 682: 4, 686: 4, 692: 4, 698: 4, 700: 4, 250: 4, 68: 4, 566: 4, 503: 4, 546: 4, 186: 4, 235: 4, 633: 4, 715: 4, 127: 4})\n"
     ]
    }
   ],
   "source": [
    "counter=collections.Counter(fullLabels)\n",
    "print(counter)\n",
    "pd.DataFrame.from_dict(data=counter, orient='index').to_csv('data/clusters_sizeHierarchical.csv', header=False)"
   ]
  }
 ],
 "metadata": {
  "kernelspec": {
   "display_name": "Python 3",
   "language": "python",
   "name": "python3"
  },
  "language_info": {
   "codemirror_mode": {
    "name": "ipython",
    "version": 3
   },
   "file_extension": ".py",
   "mimetype": "text/x-python",
   "name": "python",
   "nbconvert_exporter": "python",
   "pygments_lexer": "ipython3",
   "version": "3.5.1"
  },
  "toc": {
   "nav_menu": {},
   "number_sections": true,
   "sideBar": true,
   "skip_h1_title": false,
   "toc_cell": true,
   "toc_position": {},
   "toc_section_display": "block",
   "toc_window_display": true
  }
 },
 "nbformat": 4,
 "nbformat_minor": 2
}
